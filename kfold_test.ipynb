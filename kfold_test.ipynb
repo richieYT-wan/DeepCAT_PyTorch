{
 "cells": [
  {
   "cell_type": "code",
   "execution_count": 3,
   "id": "constant-lesbian",
   "metadata": {},
   "outputs": [
    {
     "name": "stdout",
     "output_type": "stream",
     "text": [
      "The autoreload extension is already loaded. To reload it, use:\n",
      "  %reload_ext autoreload\n",
      "C:\\Users\\richi\\Documents\\EPFL\\Master\\PDM\\code\n",
      "Using : cuda\n"
     ]
    }
   ],
   "source": [
    "#Allows relative imports\n",
    "import os\n",
    "import sys\n",
    "module_path = os.path.abspath(os.path.join('..'))\n",
    "from src.models import *\n",
    "from src.train_eval_helpers import *\n",
    "from src.preprocessing import * \n",
    "import torch\n",
    "import torch.optim\n",
    "import torch.nn as nn\n",
    "import torch.nn.functional as F\n",
    "\n",
    "%load_ext autoreload\n",
    "%autoreload 2 \n",
    "\n",
    "#if module_path not in sys.path:\n",
    "#sys.path.append(module_path)\n",
    "print(module_path)\n",
    "#print(sys.path)\n",
    "if torch.cuda.is_available():\n",
    "    device = torch.device('cuda')\n",
    "    print(\"Using : {}\".format(device))\n",
    "else:\n",
    "    device = torch.device('cpu')\n",
    "    print(\"Using : {}\".format(device))\n",
    "    \n",
    "RANGE = range(12,17)\n",
    "TRAINDIR = './TrainingData/'\n",
    "files = os.listdir(TRAINDIR)\n",
    "files.remove('readme.md')"
   ]
  },
  {
   "cell_type": "markdown",
   "id": "mexican-partnership",
   "metadata": {},
   "source": [
    "### kfold & reset params"
   ]
  },
  {
   "cell_type": "code",
   "execution_count": 6,
   "id": "impressed-review",
   "metadata": {},
   "outputs": [],
   "source": [
    "from sklearn.model_selection import KFold"
   ]
  },
  {
   "cell_type": "code",
   "execution_count": 33,
   "id": "split-sustainability",
   "metadata": {},
   "outputs": [],
   "source": [
    "import math\n",
    "def xd(nb_epochs):\n",
    "    return math.floor(nb_epochs/4)\n",
    "    \n",
    "a=xd(400)"
   ]
  },
  {
   "cell_type": "code",
   "execution_count": 35,
   "id": "adequate-devices",
   "metadata": {},
   "outputs": [
    {
     "data": {
      "text/plain": [
       "100"
      ]
     },
     "execution_count": 35,
     "metadata": {},
     "output_type": "execute_result"
    }
   ],
   "source": [
    "a"
   ]
  },
  {
   "cell_type": "code",
   "execution_count": null,
   "id": "consecutive-tonight",
   "metadata": {},
   "outputs": [],
   "source": []
  },
  {
   "cell_type": "code",
   "execution_count": 9,
   "id": "regional-facility",
   "metadata": {},
   "outputs": [
    {
     "name": "stdout",
     "output_type": "stream",
     "text": [
      "0 (666,) (334,)\n",
      "1 (667,) (333,)\n",
      "2 (667,) (333,)\n"
     ]
    }
   ],
   "source": [
    "X = torch.randn((1000,1,15,12))\n",
    "kf = KFold(3)\n",
    "for i, (train_index, test_index) in enumerate(kf.split(X)):\n",
    "    print(i, train_index.shape, test_index.shape)\n"
   ]
  },
  {
   "cell_type": "code",
   "execution_count": 36,
   "id": "taken-michael",
   "metadata": {
    "collapsed": true,
    "jupyter": {
     "outputs_hidden": true
    }
   },
   "outputs": [
    {
     "name": "stdout",
     "output_type": "stream",
     "text": [
      "torch.Size([1000, 1, 15, 12])\n",
      "TRAIN: (750,) TEST: [ 0  3 19 26 28 29 30 31 32 33]\n",
      "TRAIN: (750,) TEST: [ 1  8  9 10 12 13 17 20 21 22]\n",
      "TRAIN: (750,) TEST: [ 2  4  7 16 25 36 38 40 42 43]\n",
      "TRAIN: (750,) TEST: [ 5  6 11 14 15 18 23 24 39 47]\n"
     ]
    },
    {
     "data": {
      "text/plain": [
       "(device(type='cuda', index=0), torch.Size([750, 1, 15, 12]))"
      ]
     },
     "execution_count": 36,
     "metadata": {},
     "output_type": "execute_result"
    }
   ],
   "source": [
    "kf = KFold(n_splits=4, shuffle=True)\n",
    "X = torch.randn((1000,1,15,12))\n",
    "y = torch.randn((1000,1))\n",
    "print(X.shape)\n",
    "for train_index, test_index in kf.split(X):\n",
    "    print(\"TRAIN:\", train_index.shape, \"TEST:\", test_index[0:10])\n",
    "    #X_train, X_test = X[train_index], X[test_index]\n",
    "    #y_train, y_test = y[train_index], y[test_index]\n",
    "X = torch.randn((1000,1,15,12), device='cuda')\n",
    "train_data = X[train_index]\n",
    "train_data.device, train_data.shape"
   ]
  },
  {
   "cell_type": "code",
   "execution_count": 7,
   "id": "framed-target",
   "metadata": {
    "collapsed": true,
    "jupyter": {
     "outputs_hidden": true,
     "source_hidden": true
    }
   },
   "outputs": [
    {
     "data": {
      "text/plain": [
       "(tensor([1.0000, 2.0000, 3.0000, 5.0000, 6.3333, 6.0000]),\n",
       " tensor([0.0000, 0.0000, 0.0000, 3.0000, 2.3333, 1.0000]))"
      ]
     },
     "execution_count": 7,
     "metadata": {},
     "output_type": "execute_result"
    }
   ],
   "source": [
    "z = torch.tensor([[1,2,3,4,5,6],[1,2,3,4,6,7],[1,2,3,7,8,5]],dtype=torch.float32)\n",
    "z.mean(0), z.var(0)"
   ]
  },
  {
   "cell_type": "code",
   "execution_count": 11,
   "id": "selective-campbell",
   "metadata": {
    "jupyter": {
     "source_hidden": true
    }
   },
   "outputs": [],
   "source": [
    "from src.models import deepcat_cnn\n",
    "model = deepcat_cnn\n",
    "mod1=model(12)\n",
    "for x in list(mod1.children())[0:1]:\n",
    "    if isinstance(x, nn.Conv2d) or isinstance(x,nn.Linear):\n",
    "        print(\"before\",x.weight[0])\n",
    "        x.reset_parameters()\n",
    "        print(\"after\",x.weight[0])\n",
    "        \n",
    "mod13 = model(13)\n",
    "\n",
    "print(\"before test\", list(mod13.children())[0].weight[0][0][0:3])\n",
    "mod13.reset_parameters()\n",
    "print(\"after test\", list(mod13.children())[0].weight[0][0][0:3])\n"
   ]
  },
  {
   "cell_type": "code",
   "execution_count": 4,
   "id": "professional-printing",
   "metadata": {},
   "outputs": [
    {
     "name": "stdout",
     "output_type": "stream",
     "text": [
      "Data device = cpu\n"
     ]
    }
   ],
   "source": [
    "#Reading data\n",
    "train_normal = read_seq(TRAINDIR+files[0])\n",
    "train_tumor = read_seq(TRAINDIR+files[2])\n",
    "features, labels = generate_features_labels(train_tumor, train_normal, None)\n",
    "model = deepcat_cnn(13)"
   ]
  },
  {
   "cell_type": "code",
   "execution_count": 39,
   "id": "exempt-sellers",
   "metadata": {},
   "outputs": [],
   "source": [
    "logits,_,_ = model(data)\n",
    "a = criterion(logits, targets)"
   ]
  },
  {
   "cell_type": "code",
   "execution_count": 40,
   "id": "abandoned-surge",
   "metadata": {},
   "outputs": [
    {
     "data": {
      "text/plain": [
       "tensor(0.5502, device='cuda:0', grad_fn=<NllLossBackward>)"
      ]
     },
     "execution_count": 40,
     "metadata": {},
     "output_type": "execute_result"
    }
   ],
   "source": [
    "a"
   ]
  },
  {
   "cell_type": "code",
   "execution_count": 46,
   "id": "canadian-honduras",
   "metadata": {},
   "outputs": [
    {
     "name": "stdout",
     "output_type": "stream",
     "text": [
      "Crossvalidating : fold =  0\n",
      "Current stats at epoch = 0 :\n",
      "Train loss = 0.7151500634525133\n",
      " Val loss = 0.6582126617431641\n",
      " Acc = 0.6252089602139752\n",
      "AUC = 0.6578864469829644\n",
      "Current stats at epoch = 100 :\n",
      "Train loss = 0.5458535487237184\n",
      " Val loss = 0.4560486972332001\n",
      " Acc = 0.7803410230692076\n",
      "AUC = 0.8637353444081723\n",
      "Current stats at epoch = 200 :\n",
      "Train loss = 0.5306760655797046\n",
      " Val loss = 0.4476974606513977\n",
      " Acc = 0.7843530591775326\n",
      "AUC = 0.8665227182258676\n",
      "Crossvalidating : fold =  1\n",
      "Current stats at epoch = 0 :\n",
      "Train loss = 0.7054688075314397\n",
      " Val loss = 0.6617169380187988\n",
      " Acc = 0.6232029421598128\n",
      "AUC = 0.6224599436477565\n",
      "Current stats at epoch = 100 :\n",
      "Train loss = 0.5619006778882898\n",
      " Val loss = 0.4734615683555603\n",
      " Acc = 0.7793380140421263\n",
      "AUC = 0.8638338683525614\n",
      "Current stats at epoch = 200 :\n",
      "Train loss = 0.5376173542893451\n",
      " Val loss = 0.449660986661911\n",
      " Acc = 0.7907054496823804\n",
      "AUC = 0.8678586614706721\n",
      "Crossvalidating : fold =  2\n",
      "Current stats at epoch = 0 :\n",
      "Train loss = 0.7066477044768955\n",
      " Val loss = 0.6549779176712036\n",
      " Acc = 0.6155132062855232\n",
      "AUC = 0.72197529697943\n",
      "Current stats at epoch = 100 :\n",
      "Train loss = 0.5898540693780651\n",
      " Val loss = 0.4573111832141876\n",
      " Acc = 0.7950518221330659\n",
      "AUC = 0.8752157381385353\n",
      "Current stats at epoch = 200 :\n",
      "Train loss = 0.5712856106136156\n",
      " Val loss = 0.4523494839668274\n",
      " Acc = 0.7987295218990305\n",
      "AUC = 0.8817405474340505\n",
      "Crossvalidating : fold =  3\n",
      "Current stats at epoch = 0 :\n",
      "Train loss = 0.7118342078250387\n",
      " Val loss = 0.6694921851158142\n",
      " Acc = 0.6230769230769231\n",
      "AUC = 0.6720913640595904\n",
      "Current stats at epoch = 100 :\n",
      "Train loss = 0.5900756483492644\n",
      " Val loss = 0.4895884096622467\n",
      " Acc = 0.7655518394648829\n",
      "AUC = 0.863258147113594\n",
      "Current stats at epoch = 200 :\n",
      "Train loss = 0.5738862364188485\n",
      " Val loss = 0.4782778024673462\n",
      " Acc = 0.7735785953177258\n",
      "AUC = 0.8682469739292364\n",
      "Crossvalidating : fold =  4\n",
      "Current stats at epoch = 0 :\n",
      "Train loss = 0.7041442705237347\n",
      " Val loss = 0.6386088132858276\n",
      " Acc = 0.6652173913043479\n",
      "AUC = 0.7198240114586268\n",
      "Current stats at epoch = 100 :\n",
      "Train loss = 0.562220714662386\n",
      " Val loss = 0.46541136503219604\n",
      " Acc = 0.7822742474916388\n",
      "AUC = 0.856353785103785\n",
      "Current stats at epoch = 200 :\n",
      "Train loss = 0.5496916835722716\n",
      " Val loss = 0.45799732208251953\n",
      " Acc = 0.7806020066889632\n",
      "AUC = 0.8594390438621208\n"
     ]
    }
   ],
   "source": [
    "#To Cuda\n",
    "model.to(device)\n",
    "data = features[13].detach().clone().to(device)\n",
    "targets = labels[13].detach().clone().to(device)\n",
    "#Options\n",
    "criterion = nn.CrossEntropyLoss()\n",
    "lr = 0.00125\n",
    "optimizer = optim.Adam(model.parameters(),lr)\n",
    "mini_batch_size = 500\n",
    "nb_epochs = 300\n",
    "kfold = 5\n",
    "#run\n",
    "train_loss, val_loss, acc, AUC = kfold_cv(model, criterion, optimizer, nb_epochs, lr, \n",
    "                                          kfold, mini_batch_size, data, targets,\n",
    "                                          verbose=True)"
   ]
  },
  {
   "cell_type": "code",
   "execution_count": 51,
   "id": "electoral-place",
   "metadata": {},
   "outputs": [],
   "source": [
    "import pandas as pd\n",
    "auc_df = pd.DataFrame(AUC)"
   ]
  },
  {
   "cell_type": "code",
   "execution_count": 54,
   "id": "false-owner",
   "metadata": {},
   "outputs": [
    {
     "data": {
      "text/html": [
       "<div>\n",
       "<style scoped>\n",
       "    .dataframe tbody tr th:only-of-type {\n",
       "        vertical-align: middle;\n",
       "    }\n",
       "\n",
       "    .dataframe tbody tr th {\n",
       "        vertical-align: top;\n",
       "    }\n",
       "\n",
       "    .dataframe thead th {\n",
       "        text-align: right;\n",
       "    }\n",
       "</style>\n",
       "<table border=\"1\" class=\"dataframe\">\n",
       "  <thead>\n",
       "    <tr style=\"text-align: right;\">\n",
       "      <th></th>\n",
       "      <th>0</th>\n",
       "      <th>1</th>\n",
       "      <th>2</th>\n",
       "      <th>3</th>\n",
       "      <th>4</th>\n",
       "      <th>5</th>\n",
       "      <th>6</th>\n",
       "      <th>7</th>\n",
       "      <th>8</th>\n",
       "      <th>9</th>\n",
       "      <th>...</th>\n",
       "      <th>290</th>\n",
       "      <th>291</th>\n",
       "      <th>292</th>\n",
       "      <th>293</th>\n",
       "      <th>294</th>\n",
       "      <th>295</th>\n",
       "      <th>296</th>\n",
       "      <th>297</th>\n",
       "      <th>298</th>\n",
       "      <th>299</th>\n",
       "    </tr>\n",
       "  </thead>\n",
       "  <tbody>\n",
       "    <tr>\n",
       "      <th>0</th>\n",
       "      <td>0.657886</td>\n",
       "      <td>0.724961</td>\n",
       "      <td>0.760515</td>\n",
       "      <td>0.784362</td>\n",
       "      <td>0.794971</td>\n",
       "      <td>0.808602</td>\n",
       "      <td>0.812132</td>\n",
       "      <td>0.817898</td>\n",
       "      <td>0.823067</td>\n",
       "      <td>0.827765</td>\n",
       "      <td>...</td>\n",
       "      <td>0.858950</td>\n",
       "      <td>0.860181</td>\n",
       "      <td>0.861427</td>\n",
       "      <td>0.864081</td>\n",
       "      <td>0.863669</td>\n",
       "      <td>0.861815</td>\n",
       "      <td>0.860045</td>\n",
       "      <td>0.863413</td>\n",
       "      <td>0.859660</td>\n",
       "      <td>0.861575</td>\n",
       "    </tr>\n",
       "    <tr>\n",
       "      <th>1</th>\n",
       "      <td>0.622460</td>\n",
       "      <td>0.683882</td>\n",
       "      <td>0.692142</td>\n",
       "      <td>0.729648</td>\n",
       "      <td>0.754925</td>\n",
       "      <td>0.770167</td>\n",
       "      <td>0.776574</td>\n",
       "      <td>0.786772</td>\n",
       "      <td>0.792960</td>\n",
       "      <td>0.801620</td>\n",
       "      <td>...</td>\n",
       "      <td>0.875011</td>\n",
       "      <td>0.874138</td>\n",
       "      <td>0.874340</td>\n",
       "      <td>0.873552</td>\n",
       "      <td>0.870188</td>\n",
       "      <td>0.873370</td>\n",
       "      <td>0.873104</td>\n",
       "      <td>0.871926</td>\n",
       "      <td>0.871687</td>\n",
       "      <td>0.872723</td>\n",
       "    </tr>\n",
       "    <tr>\n",
       "      <th>2</th>\n",
       "      <td>0.721975</td>\n",
       "      <td>0.750553</td>\n",
       "      <td>0.764927</td>\n",
       "      <td>0.747385</td>\n",
       "      <td>0.777075</td>\n",
       "      <td>0.778750</td>\n",
       "      <td>0.792266</td>\n",
       "      <td>0.793957</td>\n",
       "      <td>0.798259</td>\n",
       "      <td>0.809575</td>\n",
       "      <td>...</td>\n",
       "      <td>0.876927</td>\n",
       "      <td>0.879573</td>\n",
       "      <td>0.878711</td>\n",
       "      <td>0.878703</td>\n",
       "      <td>0.875748</td>\n",
       "      <td>0.876086</td>\n",
       "      <td>0.879857</td>\n",
       "      <td>0.881815</td>\n",
       "      <td>0.878180</td>\n",
       "      <td>0.877792</td>\n",
       "    </tr>\n",
       "    <tr>\n",
       "      <th>3</th>\n",
       "      <td>0.672091</td>\n",
       "      <td>0.718630</td>\n",
       "      <td>0.756479</td>\n",
       "      <td>0.776390</td>\n",
       "      <td>0.788340</td>\n",
       "      <td>0.794415</td>\n",
       "      <td>0.799202</td>\n",
       "      <td>0.802753</td>\n",
       "      <td>0.805936</td>\n",
       "      <td>0.807331</td>\n",
       "      <td>...</td>\n",
       "      <td>0.872302</td>\n",
       "      <td>0.872143</td>\n",
       "      <td>0.870535</td>\n",
       "      <td>0.871908</td>\n",
       "      <td>0.870627</td>\n",
       "      <td>0.874095</td>\n",
       "      <td>0.871017</td>\n",
       "      <td>0.871326</td>\n",
       "      <td>0.869837</td>\n",
       "      <td>0.868634</td>\n",
       "    </tr>\n",
       "    <tr>\n",
       "      <th>4</th>\n",
       "      <td>0.719824</td>\n",
       "      <td>0.744019</td>\n",
       "      <td>0.766776</td>\n",
       "      <td>0.775211</td>\n",
       "      <td>0.786552</td>\n",
       "      <td>0.795530</td>\n",
       "      <td>0.801092</td>\n",
       "      <td>0.805470</td>\n",
       "      <td>0.811255</td>\n",
       "      <td>0.814434</td>\n",
       "      <td>...</td>\n",
       "      <td>0.858460</td>\n",
       "      <td>0.861179</td>\n",
       "      <td>0.861991</td>\n",
       "      <td>0.859870</td>\n",
       "      <td>0.859502</td>\n",
       "      <td>0.862465</td>\n",
       "      <td>0.861737</td>\n",
       "      <td>0.861108</td>\n",
       "      <td>0.861492</td>\n",
       "      <td>0.861904</td>\n",
       "    </tr>\n",
       "  </tbody>\n",
       "</table>\n",
       "<p>5 rows × 300 columns</p>\n",
       "</div>"
      ],
      "text/plain": [
       "        0         1         2         3         4         5         6    \\\n",
       "0  0.657886  0.724961  0.760515  0.784362  0.794971  0.808602  0.812132   \n",
       "1  0.622460  0.683882  0.692142  0.729648  0.754925  0.770167  0.776574   \n",
       "2  0.721975  0.750553  0.764927  0.747385  0.777075  0.778750  0.792266   \n",
       "3  0.672091  0.718630  0.756479  0.776390  0.788340  0.794415  0.799202   \n",
       "4  0.719824  0.744019  0.766776  0.775211  0.786552  0.795530  0.801092   \n",
       "\n",
       "        7         8         9    ...       290       291       292       293  \\\n",
       "0  0.817898  0.823067  0.827765  ...  0.858950  0.860181  0.861427  0.864081   \n",
       "1  0.786772  0.792960  0.801620  ...  0.875011  0.874138  0.874340  0.873552   \n",
       "2  0.793957  0.798259  0.809575  ...  0.876927  0.879573  0.878711  0.878703   \n",
       "3  0.802753  0.805936  0.807331  ...  0.872302  0.872143  0.870535  0.871908   \n",
       "4  0.805470  0.811255  0.814434  ...  0.858460  0.861179  0.861991  0.859870   \n",
       "\n",
       "        294       295       296       297       298       299  \n",
       "0  0.863669  0.861815  0.860045  0.863413  0.859660  0.861575  \n",
       "1  0.870188  0.873370  0.873104  0.871926  0.871687  0.872723  \n",
       "2  0.875748  0.876086  0.879857  0.881815  0.878180  0.877792  \n",
       "3  0.870627  0.874095  0.871017  0.871326  0.869837  0.868634  \n",
       "4  0.859502  0.862465  0.861737  0.861108  0.861492  0.861904  \n",
       "\n",
       "[5 rows x 300 columns]"
      ]
     },
     "execution_count": 54,
     "metadata": {},
     "output_type": "execute_result"
    }
   ],
   "source": [
    "auc_df"
   ]
  },
  {
   "cell_type": "code",
   "execution_count": null,
   "id": "genuine-burst",
   "metadata": {},
   "outputs": [],
   "source": []
  }
 ],
 "metadata": {
  "kernelspec": {
   "display_name": "Python 3",
   "language": "python",
   "name": "python3"
  },
  "language_info": {
   "codemirror_mode": {
    "name": "ipython",
    "version": 3
   },
   "file_extension": ".py",
   "mimetype": "text/x-python",
   "name": "python",
   "nbconvert_exporter": "python",
   "pygments_lexer": "ipython3",
   "version": "3.8.5"
  }
 },
 "nbformat": 4,
 "nbformat_minor": 5
}
