{
 "cells": [
  {
   "cell_type": "code",
   "execution_count": 4,
   "id": "dedicated-duplicate",
   "metadata": {},
   "outputs": [
    {
     "name": "stdout",
     "output_type": "stream",
     "text": [
      "C:\\Users\\richi\\Documents\\EPFL\\Master\\PDM\\code\\DeepTCR_PyTorch\\notebooks\n",
      "The autoreload extension is already loaded. To reload it, use:\n",
      "  %reload_ext autoreload\n",
      "C:\\Users\\richi\\Documents\\EPFL\\Master\\PDM\\code\\DeepTCR_PyTorch\n",
      "Using : cuda\n"
     ]
    },
    {
     "data": {
      "text/plain": [
       "['NormalCDR3.txt',\n",
       " 'NormalCDR3_test.txt',\n",
       " 'TumorCDR3.txt',\n",
       " 'TumorCDR3_test.txt']"
      ]
     },
     "execution_count": 4,
     "metadata": {},
     "output_type": "execute_result"
    }
   ],
   "source": [
    "#Allows relative imports\n",
    "import os\n",
    "import sys\n",
    "module_path = os.path.abspath(os.path.join('..'))\n",
    "sys.path.append(module_path)\n",
    "print(os.getcwd())\n",
    "from src.models import *\n",
    "from src.train_eval_helpers import *\n",
    "from src.preprocessing import * \n",
    "import torch\n",
    "import torch.optim\n",
    "import torch.nn as nn\n",
    "import torch.nn.functional as F\n",
    "\n",
    "%load_ext autoreload\n",
    "%autoreload 2 \n",
    "\n",
    "#if module_path not in sys.path:\n",
    "#sys.path.append(module_path)\n",
    "print(module_path)\n",
    "#print(sys.path)\n",
    "if torch.cuda.is_available():\n",
    "    device = torch.device('cuda')\n",
    "    print(\"Using : {}\".format(device))\n",
    "else:\n",
    "    device = torch.device('cpu')\n",
    "    print(\"Using : {}\".format(device))\n",
    "    \n",
    "RANGE = range(12,17)\n",
    "TRAINDIR = '../TrainingData/'\n",
    "files = os.listdir(TRAINDIR)\n",
    "files.remove('readme.md')\n",
    "files"
   ]
  },
  {
   "cell_type": "markdown",
   "id": "numerical-billion",
   "metadata": {},
   "source": [
    "### kfold & reset params"
   ]
  },
  {
   "cell_type": "code",
   "execution_count": 12,
   "id": "funny-witness",
   "metadata": {},
   "outputs": [
    {
     "name": "stdout",
     "output_type": "stream",
     "text": [
      "test NormalCDR3_test.txt\n",
      "xd TumorCDR3.txt\n",
      "xd TumorCDR3_test.txt\n",
      "test TumorCDR3_test.txt\n"
     ]
    }
   ],
   "source": [
    "for f in files:\n",
    "    if 'tumor' in f.lower():print(\"xd\",f)\n",
    "    if 'test' in f.lower():print(\"test\",f)"
   ]
  },
  {
   "cell_type": "code",
   "execution_count": 26,
   "id": "polyphonic-sentence",
   "metadata": {},
   "outputs": [
    {
     "name": "stdout",
     "output_type": "stream",
     "text": [
      "Data device = cuda:0\n",
      "Data device = cuda:0\n"
     ]
    }
   ],
   "source": [
    "#a.keys()\n",
    "#sub = dict((k,a[k]) for k in keys)\n",
    "from src.preprocessing import get_train_test_data\n",
    "keys = [12, 13, 15]\n",
    "a,b,c,d = get_train_test_data(TRAINDIR, keys, device, shuffle = True)\n"
   ]
  },
  {
   "cell_type": "code",
   "execution_count": 9,
   "id": "western-reach",
   "metadata": {},
   "outputs": [
    {
     "name": "stdout",
     "output_type": "stream",
     "text": [
      "0 (666,) (334,)\n",
      "1 (667,) (333,)\n",
      "2 (667,) (333,)\n"
     ]
    }
   ],
   "source": [
    "X = torch.randn((1000,1,15,12))\n",
    "kf = KFold(3)\n",
    "for i, (train_index, test_index) in enumerate(kf.split(X)):\n",
    "    print(i, train_index.shape, test_index.shape)\n"
   ]
  },
  {
   "cell_type": "code",
   "execution_count": 36,
   "id": "duplicate-market",
   "metadata": {
    "collapsed": true,
    "jupyter": {
     "outputs_hidden": true
    }
   },
   "outputs": [
    {
     "name": "stdout",
     "output_type": "stream",
     "text": [
      "torch.Size([1000, 1, 15, 12])\n",
      "TRAIN: (750,) TEST: [ 0  3 19 26 28 29 30 31 32 33]\n",
      "TRAIN: (750,) TEST: [ 1  8  9 10 12 13 17 20 21 22]\n",
      "TRAIN: (750,) TEST: [ 2  4  7 16 25 36 38 40 42 43]\n",
      "TRAIN: (750,) TEST: [ 5  6 11 14 15 18 23 24 39 47]\n"
     ]
    },
    {
     "data": {
      "text/plain": [
       "(device(type='cuda', index=0), torch.Size([750, 1, 15, 12]))"
      ]
     },
     "execution_count": 36,
     "metadata": {},
     "output_type": "execute_result"
    }
   ],
   "source": [
    "kf = KFold(n_splits=4, shuffle=True)\n",
    "X = torch.randn((1000,1,15,12))\n",
    "y = torch.randn((1000,1))\n",
    "print(X.shape)\n",
    "for train_index, test_index in kf.split(X):\n",
    "    print(\"TRAIN:\", train_index.shape, \"TEST:\", test_index[0:10])\n",
    "    #X_train, X_test = X[train_index], X[test_index]\n",
    "    #y_train, y_test = y[train_index], y[test_index]\n",
    "X = torch.randn((1000,1,15,12), device='cuda')\n",
    "train_data = X[train_index]\n",
    "train_data.device, train_data.shape"
   ]
  },
  {
   "cell_type": "code",
   "execution_count": 7,
   "id": "catholic-latin",
   "metadata": {
    "collapsed": true,
    "jupyter": {
     "outputs_hidden": true,
     "source_hidden": true
    }
   },
   "outputs": [
    {
     "data": {
      "text/plain": [
       "(tensor([1.0000, 2.0000, 3.0000, 5.0000, 6.3333, 6.0000]),\n",
       " tensor([0.0000, 0.0000, 0.0000, 3.0000, 2.3333, 1.0000]))"
      ]
     },
     "execution_count": 7,
     "metadata": {},
     "output_type": "execute_result"
    }
   ],
   "source": [
    "z = torch.tensor([[1,2,3,4,5,6],[1,2,3,4,6,7],[1,2,3,7,8,5]],dtype=torch.float32)\n",
    "z.mean(0), z.var(0)"
   ]
  },
  {
   "cell_type": "code",
   "execution_count": 11,
   "id": "different-fabric",
   "metadata": {
    "jupyter": {
     "source_hidden": true
    }
   },
   "outputs": [],
   "source": [
    "from src.models import deepcat_cnn\n",
    "model = deepcat_cnn\n",
    "mod1=model(12)\n",
    "for x in list(mod1.children())[0:1]:\n",
    "    if isinstance(x, nn.Conv2d) or isinstance(x,nn.Linear):\n",
    "        print(\"before\",x.weight[0])\n",
    "        x.reset_parameters()\n",
    "        print(\"after\",x.weight[0])\n",
    "        \n",
    "mod13 = model(13)\n",
    "\n",
    "print(\"before test\", list(mod13.children())[0].weight[0][0][0:3])\n",
    "mod13.reset_parameters()\n",
    "print(\"after test\", list(mod13.children())[0].weight[0][0][0:3])\n"
   ]
  },
  {
   "cell_type": "code",
   "execution_count": 54,
   "id": "secure-elder",
   "metadata": {},
   "outputs": [
    {
     "name": "stdout",
     "output_type": "stream",
     "text": [
      "Data device = cpu\n"
     ]
    }
   ],
   "source": []
  },
  {
   "cell_type": "code",
   "execution_count": 51,
   "id": "reserved-functionality",
   "metadata": {},
   "outputs": [],
   "source": [
    "output_directory = os.path.join(os.getcwd(),'output/')\n",
    "if not os.path.exists(output_directory):\n",
    "    os.makedirs(output_directory, exist_ok = True)  "
   ]
  },
  {
   "cell_type": "code",
   "execution_count": 22,
   "id": "white-madison",
   "metadata": {},
   "outputs": [
    {
     "name": "stdout",
     "output_type": "stream",
     "text": [
      "Data device = cpu\n"
     ]
    }
   ],
   "source": [
    "#To Cuda\n",
    "#Reading data\n",
    "train_normal = read_seq(TRAINDIR+files[0])\n",
    "train_tumor = read_seq(TRAINDIR+files[2])\n",
    "features, labels = generate_features_labels(train_tumor, train_normal, device=None)\n",
    "model = deepcat_cnn(12)\n",
    "model.to(device)\n",
    "data = features[12].detach().clone().to(device)\n",
    "targets = labels[12].detach().clone().to(device)\n",
    "#Options\n",
    "criterion = nn.CrossEntropyLoss()\n",
    "lr = 0.00125\n",
    "optimizer = optim.Adam(model.parameters(),lr)\n",
    "mini_batch_size = 500\n",
    "nb_epochs = 500\n",
    "kfold = 3\n",
    "#run\n",
    "train_loss, val_loss, acc, AUC = kfold_cv(model, criterion, optimizer, nb_epochs, \n",
    "                                          kfold, mini_batch_size, data, targets,\n",
    "                                          verbose=True)"
   ]
  },
  {
   "cell_type": "code",
   "execution_count": 58,
   "id": "unlike-identifier",
   "metadata": {
    "jupyter": {
     "source_hidden": true
    }
   },
   "outputs": [],
   "source": [
    "import pandas as pd\n",
    "auc_df = pd.DataFrame(AUC)"
   ]
  },
  {
   "cell_type": "code",
   "execution_count": 59,
   "id": "optical-invalid",
   "metadata": {
    "collapsed": true,
    "jupyter": {
     "outputs_hidden": true,
     "source_hidden": true
    }
   },
   "outputs": [
    {
     "data": {
      "text/html": [
       "<div>\n",
       "<style scoped>\n",
       "    .dataframe tbody tr th:only-of-type {\n",
       "        vertical-align: middle;\n",
       "    }\n",
       "\n",
       "    .dataframe tbody tr th {\n",
       "        vertical-align: top;\n",
       "    }\n",
       "\n",
       "    .dataframe thead th {\n",
       "        text-align: right;\n",
       "    }\n",
       "</style>\n",
       "<table border=\"1\" class=\"dataframe\">\n",
       "  <thead>\n",
       "    <tr style=\"text-align: right;\">\n",
       "      <th></th>\n",
       "      <th>0</th>\n",
       "      <th>1</th>\n",
       "      <th>2</th>\n",
       "      <th>3</th>\n",
       "      <th>4</th>\n",
       "      <th>5</th>\n",
       "      <th>6</th>\n",
       "      <th>7</th>\n",
       "      <th>8</th>\n",
       "      <th>9</th>\n",
       "      <th>...</th>\n",
       "      <th>90</th>\n",
       "      <th>91</th>\n",
       "      <th>92</th>\n",
       "      <th>93</th>\n",
       "      <th>94</th>\n",
       "      <th>95</th>\n",
       "      <th>96</th>\n",
       "      <th>97</th>\n",
       "      <th>98</th>\n",
       "      <th>99</th>\n",
       "    </tr>\n",
       "  </thead>\n",
       "  <tbody>\n",
       "    <tr>\n",
       "      <th>0</th>\n",
       "      <td>0.709133</td>\n",
       "      <td>0.755394</td>\n",
       "      <td>0.767316</td>\n",
       "      <td>0.769779</td>\n",
       "      <td>0.781097</td>\n",
       "      <td>0.776715</td>\n",
       "      <td>0.793237</td>\n",
       "      <td>0.787414</td>\n",
       "      <td>0.798162</td>\n",
       "      <td>0.800604</td>\n",
       "      <td>...</td>\n",
       "      <td>0.850594</td>\n",
       "      <td>0.853337</td>\n",
       "      <td>0.854887</td>\n",
       "      <td>0.854943</td>\n",
       "      <td>0.857697</td>\n",
       "      <td>0.858486</td>\n",
       "      <td>0.859475</td>\n",
       "      <td>0.858702</td>\n",
       "      <td>0.858458</td>\n",
       "      <td>0.859331</td>\n",
       "    </tr>\n",
       "    <tr>\n",
       "      <th>1</th>\n",
       "      <td>0.634483</td>\n",
       "      <td>0.709169</td>\n",
       "      <td>0.742507</td>\n",
       "      <td>0.771914</td>\n",
       "      <td>0.777071</td>\n",
       "      <td>0.793443</td>\n",
       "      <td>0.803845</td>\n",
       "      <td>0.803647</td>\n",
       "      <td>0.815815</td>\n",
       "      <td>0.815101</td>\n",
       "      <td>...</td>\n",
       "      <td>0.865475</td>\n",
       "      <td>0.863999</td>\n",
       "      <td>0.863727</td>\n",
       "      <td>0.865028</td>\n",
       "      <td>0.864340</td>\n",
       "      <td>0.864512</td>\n",
       "      <td>0.862793</td>\n",
       "      <td>0.862354</td>\n",
       "      <td>0.865816</td>\n",
       "      <td>0.865263</td>\n",
       "    </tr>\n",
       "    <tr>\n",
       "      <th>2</th>\n",
       "      <td>0.655965</td>\n",
       "      <td>0.712785</td>\n",
       "      <td>0.727273</td>\n",
       "      <td>0.745777</td>\n",
       "      <td>0.753048</td>\n",
       "      <td>0.763324</td>\n",
       "      <td>0.775238</td>\n",
       "      <td>0.780295</td>\n",
       "      <td>0.782779</td>\n",
       "      <td>0.789470</td>\n",
       "      <td>...</td>\n",
       "      <td>0.842928</td>\n",
       "      <td>0.841842</td>\n",
       "      <td>0.834040</td>\n",
       "      <td>0.845020</td>\n",
       "      <td>0.835126</td>\n",
       "      <td>0.846860</td>\n",
       "      <td>0.842941</td>\n",
       "      <td>0.845654</td>\n",
       "      <td>0.832118</td>\n",
       "      <td>0.835380</td>\n",
       "    </tr>\n",
       "  </tbody>\n",
       "</table>\n",
       "<p>3 rows × 100 columns</p>\n",
       "</div>"
      ],
      "text/plain": [
       "         0         1         2         3         4         5         6   \\\n",
       "0  0.709133  0.755394  0.767316  0.769779  0.781097  0.776715  0.793237   \n",
       "1  0.634483  0.709169  0.742507  0.771914  0.777071  0.793443  0.803845   \n",
       "2  0.655965  0.712785  0.727273  0.745777  0.753048  0.763324  0.775238   \n",
       "\n",
       "         7         8         9   ...        90        91        92        93  \\\n",
       "0  0.787414  0.798162  0.800604  ...  0.850594  0.853337  0.854887  0.854943   \n",
       "1  0.803647  0.815815  0.815101  ...  0.865475  0.863999  0.863727  0.865028   \n",
       "2  0.780295  0.782779  0.789470  ...  0.842928  0.841842  0.834040  0.845020   \n",
       "\n",
       "         94        95        96        97        98        99  \n",
       "0  0.857697  0.858486  0.859475  0.858702  0.858458  0.859331  \n",
       "1  0.864340  0.864512  0.862793  0.862354  0.865816  0.865263  \n",
       "2  0.835126  0.846860  0.842941  0.845654  0.832118  0.835380  \n",
       "\n",
       "[3 rows x 100 columns]"
      ]
     },
     "execution_count": 59,
     "metadata": {},
     "output_type": "execute_result"
    }
   ],
   "source": [
    "auc_df"
   ]
  },
  {
   "cell_type": "code",
   "execution_count": 24,
   "id": "artificial-peoples",
   "metadata": {},
   "outputs": [
    {
     "name": "stderr",
     "output_type": "stream",
     "text": [
      "  0%|                                                                                                | 0/100 [00:00<?, ?it/s]"
     ]
    },
    {
     "name": "stdout",
     "output_type": "stream",
     "text": [
      "Crossvalidating : Fold =  1\n"
     ]
    },
    {
     "name": "stderr",
     "output_type": "stream",
     "text": [
      "100%|██████████████████████████████████████████████████████████████████████████████████████| 100/100 [00:08<00:00, 12.20it/s]\n",
      "  2%|█▊                                                                                      | 2/100 [00:00<00:08, 11.94it/s]"
     ]
    },
    {
     "name": "stdout",
     "output_type": "stream",
     "text": [
      "Crossvalidating : Fold =  2\n"
     ]
    },
    {
     "name": "stderr",
     "output_type": "stream",
     "text": [
      "100%|██████████████████████████████████████████████████████████████████████████████████████| 100/100 [00:08<00:00, 11.94it/s]\n",
      "  0%|                                                                                                | 0/100 [00:00<?, ?it/s]"
     ]
    },
    {
     "name": "stdout",
     "output_type": "stream",
     "text": [
      "Crossvalidating : Fold =  3\n"
     ]
    },
    {
     "name": "stderr",
     "output_type": "stream",
     "text": [
      "100%|██████████████████████████████████████████████████████████████████████████████████████| 100/100 [00:08<00:00, 12.00it/s]\n"
     ]
    },
    {
     "name": "stdout",
     "output_type": "stream",
     "text": [
      "Best epochs : val 89, acc 94, auc 72, f1 84\n"
     ]
    },
    {
     "data": {
      "image/png": "[encoded data removed]",
      "text/plain": [
       "<Figure size 1440x936 with 1 Axes>"
      ]
     },
     "metadata": {
      "needs_background": "light"
     },
     "output_type": "display_data"
    }
   ],
   "source": [
    "#To Cuda\n",
    "#Reading data\n",
    "ll=15\n",
    "model = deepcat_cnn(ll)\n",
    "model.to(device)\n",
    "data = features[ll].detach().clone().to(device)\n",
    "targets = labels[ll].detach().clone().to(device)\n",
    "#Options\n",
    "criterion = nn.CrossEntropyLoss()\n",
    "lr = 0.00125\n",
    "optimizer = optim.Adam(model.parameters(),lr)\n",
    "mini_batch_size = 500\n",
    "nb_epochs = 100\n",
    "kfold = 3\n",
    "#run\n",
    "train_loss, val_loss, acc, AUC, f1 = kfold_cv(model, criterion, optimizer, nb_epochs, \n",
    "                                          kfold, mini_batch_size, data, targets,\n",
    "                                          verbose=True)\n",
    "f,a = plt.subplots(figsize=(20,13))\n",
    "\n",
    "mean_train = np.array(train_loss).mean(0)\n",
    "mean_val = np.array(val_loss).mean(0)\n",
    "mean_acc = np.array(acc).mean(0)\n",
    "mean_auc = np.array(AUC).mean(0)\n",
    "mean_f1 = np.array(f1).mean(0)\n",
    "z = [mean_train, mean_val, mean_acc, mean_auc, mean_f1]\n",
    "labs = ['train', 'val','acc', 'AUC', 'f1 score']\n",
    "for index, val in enumerate(z):\n",
    "    a.plot(range(len(val)),val, label= labs[index])\n",
    "a.legend()\n",
    "print(\"Best epochs : val {}, acc {}, auc {}, f1 {}\".format(np.argmin(mean_val),\n",
    "                                                    np.argmax(mean_acc),\n",
    "                                                    np.argmax(mean_auc),\n",
    "                                                    np.argmax(mean_f1)))"
   ]
  },
  {
   "cell_type": "code",
   "execution_count": null,
   "id": "municipal-quantum",
   "metadata": {},
   "outputs": [],
   "source": [
    "def best(e):\n",
    "    print(\"###########\\nEpoch = \",e)\n",
    "    print(\"Val_loss \\t {:.4f}\".format(mean_val[e]))\n",
    "    print(\"Acc \\t {:.3%}\".format(mean_acc[e]))\n",
    "    print(\"AUC \\t {:.3%}\".format(mean_auc[e]))\n",
    "    print(\"F1 \\t {:.3%}\".format(mean_f1 [e]))"
   ]
  },
  {
   "cell_type": "code",
   "execution_count": null,
   "id": "oriented-sound",
   "metadata": {},
   "outputs": [],
   "source": [
    "#Best epochs : val 270, acc 232, auc 247, f1 171\n",
    "for e in [270, 232, 247, 171]:\n",
    "    best(e)\n"
   ]
  },
  {
   "cell_type": "code",
   "execution_count": 121,
   "id": "specialized-makeup",
   "metadata": {},
   "outputs": [],
   "source": [
    "torch.save(model, 'mode.pth')"
   ]
  },
  {
   "cell_type": "code",
   "execution_count": 125,
   "id": "adapted-dating",
   "metadata": {},
   "outputs": [],
   "source": [
    "torch.save(model,'./output/xd.pth.tar')"
   ]
  },
  {
   "cell_type": "code",
   "execution_count": 130,
   "id": "grateful-casting",
   "metadata": {},
   "outputs": [
    {
     "data": {
      "text/plain": [
       "('output', 'xd.pth.tar')"
      ]
     },
     "execution_count": 130,
     "metadata": {},
     "output_type": "execute_result"
    }
   ],
   "source": [
    "from os.path import basename, dirname\n",
    "dirname('output/xd.pth.tar'), basename('output/xd.pth.tar')"
   ]
  },
  {
   "cell_type": "code",
   "execution_count": null,
   "id": "executive-latest",
   "metadata": {},
   "outputs": [],
   "source": [
    "torch.save({\n",
    "    'epoch':epoch,\n",
    "    'model':model.name\n",
    "    'best_metric':save\n",
    "    'state_dict': model.state_dict(),\n",
    "    'val_loss' : val_loss,\n",
    "    'acc' : acc,\n",
    "    'AUC' : auc,\n",
    "    'F1' : f1}, \n",
    "    PATH)"
   ]
  },
  {
   "cell_type": "code",
   "execution_count": 19,
   "id": "naughty-letters",
   "metadata": {},
   "outputs": [
    {
     "data": {
      "text/plain": [
       "'C:\\\\Users\\\\richi\\\\Documents\\\\EPFL\\\\Master\\\\PDM\\\\code\\\\DeepTCR_PyTorch\\\\notebooks\\\\filename.pth'"
      ]
     },
     "execution_count": 19,
     "metadata": {},
     "output_type": "execute_result"
    }
   ],
   "source": [
    "os.path.join(os.getcwd(),'filename.pth')"
   ]
  },
  {
   "cell_type": "code",
   "execution_count": 12,
   "id": "plain-monaco",
   "metadata": {},
   "outputs": [
    {
     "name": "stdout",
     "output_type": "stream",
     "text": [
      "1\n",
      "something\n"
     ]
    }
   ],
   "source": [
    "save = 'val'\n",
    "if save == 'val':\n",
    "    #is_best == 1\n",
    "    print(\"1\")\n",
    "elif save != 'val' and save != False:\n",
    "    #is_best == 0\n",
    "    print(\"0\")\n",
    "    \n",
    "if save:print(\"something\")"
   ]
  },
  {
   "cell_type": "code",
   "execution_count": 2,
   "id": "exciting-tournament",
   "metadata": {},
   "outputs": [],
   "source": [
    "test = deepcat_cnn(12)"
   ]
  },
  {
   "cell_type": "code",
   "execution_count": 3,
   "id": "associate-transparency",
   "metadata": {},
   "outputs": [
    {
     "data": {
      "text/plain": [
       "'deepcat_cnn_12'"
      ]
     },
     "execution_count": 3,
     "metadata": {},
     "output_type": "execute_result"
    }
   ],
   "source": [
    "test.name"
   ]
  },
  {
   "cell_type": "code",
   "execution_count": 17,
   "id": "enhanced-employer",
   "metadata": {},
   "outputs": [
    {
     "name": "stdout",
     "output_type": "stream",
     "text": [
      "current best 1\n",
      "current best 1\n",
      "is best!\n",
      "new best 0.2\n",
      "current best 0.2\n",
      "current best 0.2\n",
      "is best!\n",
      "new best 0.1\n",
      "current best 0.1\n",
      "current best 0.1\n",
      "current best 0.1\n",
      "is best!\n",
      "new best 0.02\n",
      "current best 0.02\n",
      "is best!\n",
      "new best 0.001\n"
     ]
    }
   ],
   "source": [
    "best=1\n",
    "for z in [3, 0.2, 0.6, 0.1, 1, 0.1, 0.02, 0.001]:\n",
    "    print(\"current best\", best)\n",
    "    is_best = z < best\n",
    "    if is_best:\n",
    "        print(\"is best!\")\n",
    "        best=z\n",
    "        print(\"new best\", best)\n"
   ]
  },
  {
   "cell_type": "code",
   "execution_count": 31,
   "id": "exposed-mexican",
   "metadata": {},
   "outputs": [],
   "source": [
    "import pandas as pd\n",
    "#For KCV\n",
    "test = pd.DataFrame(f1, index = ['f1_'+str(x) for x in range(len(f1))])\n",
    "test"
   ]
  },
  {
   "cell_type": "code",
   "execution_count": 41,
   "id": "exciting-ordinance",
   "metadata": {},
   "outputs": [
    {
     "data": {
      "text/plain": [
       "datetime.datetime(2021, 2, 5, 15, 44, 53, 37837)"
      ]
     },
     "execution_count": 41,
     "metadata": {},
     "output_type": "execute_result"
    }
   ],
   "source": [
    "test = pd.DataFrame(acc, index = ['acc_'+str(x) for x in range(len(acc))])\n",
    "from datetime import datetime as dt\n",
    "a=dt.now()\n",
    "a"
   ]
  },
  {
   "cell_type": "code",
   "execution_count": 53,
   "id": "deadly-hurricane",
   "metadata": {},
   "outputs": [],
   "source": [
    "c = dt.now()\n"
   ]
  },
  {
   "cell_type": "code",
   "execution_count": 59,
   "id": "secret-engine",
   "metadata": {},
   "outputs": [],
   "source": [
    "minutes = divmod( (c-a).total_seconds(), 60)"
   ]
  },
  {
   "cell_type": "code",
   "execution_count": 34,
   "id": "unsigned-transaction",
   "metadata": {},
   "outputs": [
    {
     "name": "stderr",
     "output_type": "stream",
     "text": [
      "  2%|█▊                                                                                      | 2/100 [00:00<00:15,  6.35it/s]"
     ]
    },
    {
     "name": "stdout",
     "output_type": "stream",
     "text": [
      "Current stats at epoch = 0 :\n",
      "Train loss = 0.5784198753535748\n",
      " Val loss = 0.4791962504386902\n",
      " Acc = 0.7939364362837796\n",
      "AUC = 0.8686732792758394\n",
      "F1 = 0.7618779077964191\n"
     ]
    },
    {
     "name": "stderr",
     "output_type": "stream",
     "text": [
      " 35%|██████████████████████████████▍                                                        | 35/100 [00:04<00:08,  7.23it/s]"
     ]
    },
    {
     "name": "stdout",
     "output_type": "stream",
     "text": [
      "Current stats at epoch = 33 :\n",
      "Train loss = 0.5746251679956913\n",
      " Val loss = 0.46824049949645996\n",
      " Acc = 0.8061977673397182\n",
      "AUC = 0.879857925400513\n",
      "F1 = 0.7644747572095782\n"
     ]
    },
    {
     "name": "stderr",
     "output_type": "stream",
     "text": [
      " 68%|███████████████████████████████████████████████████████████▏                           | 68/100 [00:09<00:04,  7.30it/s]"
     ]
    },
    {
     "name": "stdout",
     "output_type": "stream",
     "text": [
      "Current stats at epoch = 66 :\n",
      "Train loss = 0.5586552154272795\n",
      " Val loss = 0.46069809794425964\n",
      " Acc = 0.8101018727505642\n",
      "AUC = 0.8841584095701689\n",
      "F1 = 0.7738467126770796\n"
     ]
    },
    {
     "name": "stderr",
     "output_type": "stream",
     "text": [
      "100%|██████████████████████████████████████████████████████████████████████████████████████| 100/100 [00:14<00:00,  7.13it/s]"
     ]
    },
    {
     "name": "stdout",
     "output_type": "stream",
     "text": [
      "Current stats at epoch = 99 :\n",
      "Train loss = 0.5599241908639669\n",
      " Val loss = 0.4459933936595917\n",
      " Acc = 0.8093088513389861\n",
      "AUC = 0.8858806646679775\n",
      "F1 = 0.7676872770511296\n"
     ]
    },
    {
     "name": "stderr",
     "output_type": "stream",
     "text": [
      "\n"
     ]
    }
   ],
   "source": [
    "train_loss, val_loss, acc, AUC, f1 = train_model_full(model, criterion, optimizer, nb_epochs,\n",
    "                                              data, targets, data, targets, \n",
    "                                              mini_batch_size, verbose=True)"
   ]
  },
  {
   "cell_type": "code",
   "execution_count": null,
   "id": "compound-ontario",
   "metadata": {},
   "outputs": [],
   "source": []
  }
 ],
 "metadata": {
  "kernelspec": {
   "display_name": "Python 3",
   "language": "python",
   "name": "python3"
  },
  "language_info": {
   "codemirror_mode": {
    "name": "ipython",
    "version": 3
   },
   "file_extension": ".py",
   "mimetype": "text/x-python",
   "name": "python",
   "nbconvert_exporter": "python",
   "pygments_lexer": "ipython3",
   "version": "3.8.5"
  }
 },
 "nbformat": 4,
 "nbformat_minor": 5
}
