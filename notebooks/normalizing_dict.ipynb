{
 "cells": [
  {
   "cell_type": "code",
   "execution_count": 1,
   "id": "underlying-entity",
   "metadata": {},
   "outputs": [
    {
     "name": "stdout",
     "output_type": "stream",
     "text": [
      "Using : cuda\n"
     ]
    }
   ],
   "source": [
    "#Allows relative imports\n",
    "import os\n",
    "import sys\n",
    "module_path = os.path.abspath(os.path.join('..'))\n",
    "if module_path not in sys.path:\n",
    "    sys.path.append(module_path)\n",
    "#imports \n",
    "from src.preprocessing import *\n",
    "from src.models import *\n",
    "from src.train_eval_helpers import *\n",
    "from src.plots import *\n",
    "import torch\n",
    "import torch.nn as nn\n",
    "import torch.nn.functional as F\n",
    "%load_ext autoreload\n",
    "%autoreload 2\n",
    "#checking gpu status\n",
    "if torch.cuda.is_available():\n",
    "    device = torch.device('cuda')\n",
    "    print(\"Using : {}\".format(device))\n",
    "else:\n",
    "    device = torch.device('cpu')\n",
    "    print(\"Using : {}\".format(device))\n",
    "\n",
    "RANGE = range(12,17)\n",
    "TRAINDIR = '../TrainingData/'"
   ]
  },
  {
   "cell_type": "code",
   "execution_count": 3,
   "id": "greenhouse-former",
   "metadata": {},
   "outputs": [],
   "source": [
    "PATH = os.getcwd()\n",
    "if 'notebook' in PATH:\n",
    "    with open('../src/AAidx_dict.pkl', 'rb') as f: \n",
    "        AAidx_Dict = pickle.load(f) \n",
    "    with open('../src/merged_dict.pkl', 'rb') as g: \n",
    "        merged_dict = pickle.load(g) \n",
    "\n",
    "elif 'src' in PATH :\n",
    "    with open('./AAidx_dict.pkl', 'rb') as f: \n",
    "        AAidx_Dict = pickle.load(f) \n",
    "    with open('./merged_dict.pkl', 'rb') as g: \n",
    "        merged_dict = pickle.load(g) \n",
    "else :\n",
    "    with open('./src/AAidx_dict.pkl', 'rb') as f: \n",
    "        AAidx_Dict = pickle.load(f) \n",
    "    with open('./src/merged_dict.pkl', 'rb') as g: \n",
    "        merged_dict = pickle.load(g) "
   ]
  },
  {
   "cell_type": "code",
   "execution_count": 7,
   "id": "widespread-catalog",
   "metadata": {},
   "outputs": [],
   "source": [
    "from sklearn.preprocessing import MinMaxScaler, StandardScaler"
   ]
  },
  {
   "cell_type": "code",
   "execution_count": 26,
   "id": "requested-uncle",
   "metadata": {},
   "outputs": [],
   "source": [
    "keys = sorted_aaidx.keys()"
   ]
  },
  {
   "cell_type": "code",
   "execution_count": 45,
   "id": "driven-syndrome",
   "metadata": {},
   "outputs": [],
   "source": [
    "aaidx_array = np.array(list(sorted_aaidx.values()))\n",
    "atchley_list = []\n",
    "for k in keys:\n",
    "    atchley_list.append(merged_dict[k][0:5])\n",
    "atchley_array = np.array(atchley_list)"
   ]
  },
  {
   "cell_type": "code",
   "execution_count": 76,
   "id": "emotional-belly",
   "metadata": {},
   "outputs": [],
   "source": [
    "scaler = MinMaxScaler(feature_range=(-1,1))\n",
    "minmax_atchley =scaler.fit_transform(atchley_array)\n",
    "minmax_aaidx = scaler.fit_transform(aaidx_array)\n",
    "\n",
    "minmax_atchley_dict = {}\n",
    "minmax_aaidx_dict = {}\n",
    "minmax_merged_dict = {}\n",
    "\n",
    "for index, k in enumerate(keys):\n",
    "    minmax_atchley_dict[k] = list(minmax_atchley[index,:])\n",
    "    minmax_aaidx_dict[k] = list(minmax_aaidx[index,:])\n",
    "    minmax_merged_dict[k] = list(minmax_atchley[index,:])+list(minmax_aaidx[index,:])"
   ]
  },
  {
   "cell_type": "code",
   "execution_count": 96,
   "id": "executed-mountain",
   "metadata": {},
   "outputs": [],
   "source": [
    "fn = ['minmax_atchley.pkl', 'minmax_aaidx.pkl','minmax_merged.pkl']\n",
    "for indx, x in enumerate([minmax_atchley_dict, minmax_aaidx_dict, minmax_merged_dict]):\n",
    "    with open(fn[indx], 'wb') as f:\n",
    "        pickle.dump(x,f)"
   ]
  }
 ],
 "metadata": {
  "kernelspec": {
   "display_name": "Python 3",
   "language": "python",
   "name": "python3"
  },
  "language_info": {
   "codemirror_mode": {
    "name": "ipython",
    "version": 3
   },
   "file_extension": ".py",
   "mimetype": "text/x-python",
   "name": "python",
   "nbconvert_exporter": "python",
   "pygments_lexer": "ipython3",
   "version": "3.8.5"
  }
 },
 "nbformat": 4,
 "nbformat_minor": 5
}
