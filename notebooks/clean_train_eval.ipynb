{
 "cells": [
  {
   "cell_type": "code",
   "execution_count": 1,
   "metadata": {},
   "outputs": [
    {
     "name": "stdout",
     "output_type": "stream",
     "text": [
      "Using : cuda\n"
     ]
    },
    {
     "data": {
      "text/plain": [
       "['NormalCDR3.txt',\n",
       " 'NormalCDR3_test.txt',\n",
       " 'TumorCDR3.txt',\n",
       " 'TumorCDR3_test.txt']"
      ]
     },
     "execution_count": 1,
     "metadata": {},
     "output_type": "execute_result"
    }
   ],
   "source": [
    "#Allows relative imports\n",
    "import os\n",
    "import sys\n",
    "module_path = os.path.abspath(os.path.join('..'))\n",
    "if module_path not in sys.path:\n",
    "    sys.path.append(module_path)\n",
    "#imports \n",
    "from src.preprocessing import *\n",
    "from src.models import deepcat_cnn\n",
    "from src.torch_util import *\n",
    "from src.dataloader import *\n",
    "%load_ext autoreload\n",
    "%autoreload 2\n",
    "#checking gpu status\n",
    "if torch.cuda.is_available():\n",
    "    device = torch.device('cuda')\n",
    "    print(\"Using : {}\".format(device))\n",
    "else:\n",
    "    device = torch.device('cpu')\n",
    "    print(\"Using : {}\".format(device))\n",
    "\n",
    "RANGE = range(12,17)\n",
    "TRAINDIR = '../TrainingData/'\n",
    "files = os.listdir(TRAINDIR)\n",
    "files.remove('readme.md')\n",
    "files"
   ]
  },
  {
   "cell_type": "code",
   "execution_count": 2,
   "metadata": {},
   "outputs": [
    {
     "name": "stdout",
     "output_type": "stream",
     "text": [
      "cuda:0\n",
      "cuda:0\n",
      "cuda:0\n",
      "cuda:0\n",
      "cuda:0\n",
      "cuda:0\n",
      "cuda:0\n",
      "cuda:0\n",
      "cuda:0\n",
      "cuda:0\n",
      "TRAIN TENSORS torch.Size([7379, 1, 15, 12]) cuda:0\n",
      "LABELS torch.Size([7379]) cuda:0\n",
      "TEST TENSORS torch.Size([7040, 1, 15, 15]) cuda:0\n",
      "LABELS torch.Size([7040]) cuda:0\n"
     ]
    }
   ],
   "source": [
    "#Reading data\n",
    "train_normal = read_seq(TRAINDIR+files[0])\n",
    "train_tumor = read_seq(TRAINDIR+files[2])\n",
    "\n",
    "test_normal = read_seq(TRAINDIR+files[1])\n",
    "test_tumor = read_seq(TRAINDIR+files[3])\n",
    "#For now, data has not been split into validation/train sets.\n",
    "train_features, train_labels = generate_features_labels(train_tumor, train_normal, device)\n",
    "test_features, test_labels = generate_features_labels(test_tumor, test_normal, device)\n",
    "\n",
    "print(\"TRAIN TENSORS\",train_features[12]['x'].shape, train_features[12]['x'].device)\n",
    "print(\"LABELS\", train_labels[12].shape, train_labels[12].device)\n",
    "\n",
    "print(\"TEST TENSORS\",test_features[15]['x'].shape, test_features[15]['x'].device)\n",
    "print(\"LABELS\", test_labels[15].shape, test_labels[15].device)"
   ]
  },
  {
   "cell_type": "code",
   "execution_count": 3,
   "metadata": {},
   "outputs": [
    {
     "data": {
      "text/plain": [
       "(15, device(type='cuda', index=0))"
      ]
     },
     "execution_count": 3,
     "metadata": {},
     "output_type": "execute_result"
    }
   ],
   "source": [
    "#Loading models \n",
    "model_dict = {}\n",
    "\n",
    "for length in RANGE:\n",
    "    model = deepcat_cnn(length)\n",
    "    model.to(device)\n",
    "    model_dict[length]=model\n",
    "    del model\n",
    "\n",
    "model_dict[15].length, model_dict[15].dummy_param.device"
   ]
  },
  {
   "cell_type": "code",
   "execution_count": null,
   "metadata": {
    "jupyter": {
     "source_hidden": true
    }
   },
   "outputs": [],
   "source": [
    "\"\"\"  \n",
    "def train(...):\n",
    "     if torch.cuda.is_available():\n",
    "       device = torch.device('cuda')\n",
    "       print(\"Using : {}\".format(device))\n",
    "   else:\n",
    "       device = torch.device('cpu')\n",
    "       print(\"Using : {}\".format(device))\n",
    "       #    model = something\n",
    "    model to device\n",
    "    \n",
    "    optimizer = optim.something(model.parameters, lr, ...)\n",
    "    criterion = nn.CrossEntropyLoss\n",
    "    etc.\n",
    "    #Deal with data here\n",
    "    \n",
    "    for e in epochs:\n",
    "        train_model(model, loss, optimizer, ...)\n",
    "ex : \n",
    "def train(..)\n",
    "\n",
    "    losses = {} a dictionary of lists of losses\n",
    "    \n",
    "    for epoch in nb_epochs:\n",
    "        for length in range(12,17):\n",
    "            data = feature_dict[length]\n",
    "            labels = label_dict[length]\n",
    "            model = model_dict[length]\n",
    "            loss = train_model(...)\n",
    "    \n",
    "\"\"\" "
   ]
  },
  {
   "cell_type": "code",
   "execution_count": 5,
   "metadata": {},
   "outputs": [],
   "source": [
    "import torch\n",
    "from torch import nn\n",
    "from torch.nn import functional as F\n",
    "from torch import optim\n",
    "from torch.utils.data import BatchSampler, RandomSampler    \n",
    "from sklearn.metrics import roc_curve, roc_auc_score, accuracy_score\n",
    "import matplotlib.pyplot as plt\n",
    "\n",
    "def train_model(model, criterion, optimizer, train_data, target_labels,\n",
    "                epoch, mini_batch_size):\n",
    "    \"\"\"\n",
    "    Trains one version (length) of a given model\n",
    "    Trains over mini-batches for one epoch.\n",
    "    Another function should call do the task of getting each of the 5 models and datasets\n",
    "    and call this function once for each pair.\n",
    "    \"\"\"\n",
    "    model.train()\n",
    "    train_loss = 0\n",
    "    #Minibatch SGD, get a list of indices to separate the train data into batches \n",
    "    for b in list(BatchSampler(RandomSampler(range(train_data.size(0))),\n",
    "                               batch_size=mini_batch_size, drop_last=False)):\n",
    "        #Standard train loops\n",
    "        output = model(train_data[b])\n",
    "        loss = criterion(output, target_labels[b]) #criterion = nn.CEL\n",
    "        model.zero_grad()\n",
    "        loss.backward()\n",
    "        optimizer.step()\n",
    "        \n",
    "        train_loss += loss.item()\n",
    "    #train_loss /= train_data.size(0)\n",
    "    #if e%200==0:\n",
    "     #   print(\"Loss at epoch {e} : {l}\".format(e=epoch,l=train_loss))\n",
    "    return train_loss\n",
    "#    \n",
    "#\n",
    "#def eval_model(model, criterion):\n",
    "#    model.eval()"
   ]
  },
  {
   "cell_type": "code",
   "execution_count": 6,
   "metadata": {},
   "outputs": [
    {
     "name": "stdout",
     "output_type": "stream",
     "text": [
      "feats torch.Size([7379, 1, 15, 12]) cuda:0\n",
      "labs torch.Size([7379]) cuda:0\n",
      "model cuda:0\n"
     ]
    }
   ],
   "source": [
    "length = 12 \n",
    "feats = train_features[length]['x'].detach().clone()\n",
    "labels = train_labels[length].detach().clone()\n",
    "model = model_dict[length]\n",
    "optimizer = optim.SGD(model.parameters(), lr = 0.001)\n",
    "criterion = nn.CrossEntropyLoss()\n",
    "print(\"feats\",feats.shape, feats.device)\n",
    "print(\"labs\", labels.shape, labels.device)\n",
    "print(\"model\",model.dummy_param.device)"
   ]
  },
  {
   "cell_type": "code",
   "execution_count": 10,
   "metadata": {},
   "outputs": [],
   "source": [
    "a= BatchSampler(RandomSampler(range(feats.size(0))), batch_size=100, drop_last=False)"
   ]
  },
  {
   "cell_type": "code",
   "execution_count": 12,
   "metadata": {},
   "outputs": [],
   "source": [
    "b = list(a)"
   ]
  },
  {
   "cell_type": "code",
   "execution_count": null,
   "metadata": {},
   "outputs": [],
   "source": [
    "import timeit\n",
    "\n",
    "start = timeit.timeit()\n",
    "print(\"hello\")\n",
    "end = timeit.timeit()\n",
    "print(end - start)"
   ]
  },
  {
   "cell_type": "code",
   "execution_count": 18,
   "metadata": {
    "collapsed": true,
    "jupyter": {
     "outputs_hidden": true
    }
   },
   "outputs": [
    {
     "name": "stdout",
     "output_type": "stream",
     "text": [
      "Current Time = 14:27:24\n",
      "Loss at 0 epochs: 20.573338866233826\n",
      "Current Time = 14:27:47\n",
      "Loss at 200 epochs: 20.604674696922302\n",
      "Current Time = 14:28:10\n",
      "Loss at 400 epochs: 20.067731022834778\n",
      "Current Time = 14:28:33\n",
      "Loss at 600 epochs: 20.340508818626404\n",
      "Current Time = 14:28:55\n",
      "Loss at 800 epochs: 19.981285274028778\n",
      "Current Time = 14:29:20\n",
      "Loss at 1000 epochs: 20.267720013856888\n",
      "Current Time = 14:29:47\n",
      "Loss at 1200 epochs: 19.99930790066719\n",
      "Current Time = 14:30:13\n",
      "Loss at 1400 epochs: 19.792585283517838\n",
      "Current Time = 14:30:37\n",
      "Loss at 1600 epochs: 19.784479469060898\n",
      "Current Time = 14:31:01\n",
      "Loss at 1800 epochs: 19.388214498758316\n",
      "Current Time = 14:31:23\n",
      "Loss at 2000 epochs: 19.396026849746704\n",
      "Current Time = 14:31:46\n",
      "Loss at 2200 epochs: 19.569690823554993\n",
      "Current Time = 14:32:11\n",
      "Loss at 2400 epochs: 19.3354389667511\n",
      "Current Time = 14:32:35\n",
      "Loss at 2600 epochs: 19.451843827962875\n",
      "Current Time = 14:32:59\n",
      "Loss at 2800 epochs: 19.229603230953217\n",
      "Current Time = 14:33:21\n",
      "Loss at 3000 epochs: 19.394907623529434\n",
      "Current Time = 14:33:45\n",
      "Loss at 3200 epochs: 19.03164967894554\n",
      "Current Time = 14:34:12\n",
      "Loss at 3400 epochs: 19.135394871234894\n",
      "Current Time = 14:34:37\n",
      "Loss at 3600 epochs: 18.763026773929596\n",
      "Current Time = 14:35:00\n",
      "Loss at 3800 epochs: 18.979592740535736\n",
      "Current Time = 14:35:23\n",
      "Loss at 4000 epochs: 18.87904328107834\n",
      "Current Time = 14:35:46\n",
      "Loss at 4200 epochs: 18.918458253145218\n",
      "Current Time = 14:36:08\n",
      "Loss at 4400 epochs: 18.972688525915146\n",
      "Current Time = 14:36:36\n",
      "Loss at 4600 epochs: 18.69658589363098\n",
      "Current Time = 14:37:00\n",
      "Loss at 4800 epochs: 18.772717833518982\n",
      "Current Time = 14:37:23\n",
      "Loss at 5000 epochs: 18.801167517900467\n",
      "Current Time = 14:37:46\n",
      "Loss at 5200 epochs: 18.588032871484756\n",
      "Current Time = 14:38:08\n",
      "Loss at 5400 epochs: 18.544783800840378\n",
      "Current Time = 14:38:33\n",
      "Loss at 5600 epochs: 18.723612785339355\n",
      "Current Time = 14:38:56\n",
      "Loss at 5800 epochs: 18.930041879415512\n",
      "Current Time = 14:39:21\n",
      "Loss at 6000 epochs: 18.462862998247147\n",
      "Current Time = 14:39:55\n",
      "Loss at 6200 epochs: 18.724648118019104\n",
      "Current Time = 14:40:20\n",
      "Loss at 6400 epochs: 18.71228739619255\n",
      "Current Time = 14:40:43\n",
      "Loss at 6600 epochs: 18.786769956350327\n",
      "Current Time = 14:41:09\n",
      "Loss at 6800 epochs: 18.798326820135117\n",
      "Current Time = 14:41:33\n",
      "Loss at 7000 epochs: 18.811912059783936\n",
      "Current Time = 14:41:57\n",
      "Loss at 7200 epochs: 18.592675626277924\n",
      "Current Time = 14:42:24\n",
      "Loss at 7400 epochs: 18.780212461948395\n",
      "Current Time = 14:42:47\n",
      "Loss at 7600 epochs: 18.599802047014236\n",
      "Current Time = 14:43:09\n",
      "Loss at 7800 epochs: 18.41153782606125\n",
      "Current Time = 14:43:34\n",
      "Loss at 8000 epochs: 18.588251680135727\n",
      "Current Time = 14:43:57\n",
      "Loss at 8200 epochs: 18.488985508680344\n",
      "Current Time = 14:44:21\n",
      "Loss at 8400 epochs: 18.584917724132538\n",
      "Current Time = 14:44:44\n",
      "Loss at 8600 epochs: 18.656710147857666\n",
      "Current Time = 14:45:07\n",
      "Loss at 8800 epochs: 18.357086837291718\n",
      "Current Time = 14:45:29\n",
      "Loss at 9000 epochs: 18.359533488750458\n",
      "Current Time = 14:45:51\n",
      "Loss at 9200 epochs: 18.518698275089264\n",
      "Current Time = 14:46:13\n",
      "Loss at 9400 epochs: 18.73526021838188\n",
      "Current Time = 14:46:35\n",
      "Loss at 9600 epochs: 18.59463942050934\n",
      "Current Time = 14:46:58\n",
      "Loss at 9800 epochs: 18.394886016845703\n",
      "Current Time = 14:47:23\n",
      "Loss at 10000 epochs: 18.44951131939888\n",
      "Current Time = 14:47:49\n",
      "Loss at 10200 epochs: 18.487368494272232\n",
      "Current Time = 14:48:13\n",
      "Loss at 10400 epochs: 18.55406540632248\n",
      "Current Time = 14:48:36\n",
      "Loss at 10600 epochs: 18.697488605976105\n",
      "Current Time = 14:48:59\n",
      "Loss at 10800 epochs: 18.359418213367462\n",
      "Current Time = 14:49:22\n",
      "Loss at 11000 epochs: 18.49766543507576\n",
      "Current Time = 14:49:49\n",
      "Loss at 11200 epochs: 18.349328368902206\n",
      "Current Time = 14:50:13\n",
      "Loss at 11400 epochs: 18.246038734912872\n",
      "Current Time = 14:50:38\n",
      "Loss at 11600 epochs: 18.213746160268784\n",
      "Current Time = 14:51:02\n",
      "Loss at 11800 epochs: 17.994409948587418\n",
      "Current Time = 14:51:26\n",
      "Loss at 12000 epochs: 18.472068458795547\n",
      "Current Time = 14:51:51\n",
      "Loss at 12200 epochs: 18.1042278110981\n",
      "Current Time = 14:52:15\n",
      "Loss at 12400 epochs: 18.265796333551407\n",
      "Current Time = 14:52:39\n",
      "Loss at 12600 epochs: 18.119175374507904\n",
      "Current Time = 14:53:03\n",
      "Loss at 12800 epochs: 18.06612530350685\n",
      "Current Time = 14:53:26\n",
      "Loss at 13000 epochs: 18.26366537809372\n",
      "Current Time = 14:53:50\n",
      "Loss at 13200 epochs: 18.11798247694969\n",
      "Current Time = 14:54:13\n",
      "Loss at 13400 epochs: 18.05239462852478\n",
      "Current Time = 14:54:36\n",
      "Loss at 13600 epochs: 18.171824991703033\n",
      "Current Time = 14:54:58\n",
      "Loss at 13800 epochs: 18.10458019375801\n",
      "Current Time = 14:55:21\n",
      "Loss at 14000 epochs: 18.102374494075775\n",
      "Current Time = 14:55:44\n",
      "Loss at 14200 epochs: 18.268895626068115\n",
      "Current Time = 14:56:10\n",
      "Loss at 14400 epochs: 18.449004232883453\n",
      "Current Time = 14:56:34\n",
      "Loss at 14600 epochs: 18.30245929956436\n",
      "Current Time = 14:56:59\n",
      "Loss at 14800 epochs: 17.962331771850586\n",
      "Current Time = 14:57:32\n",
      "Loss at 15000 epochs: 18.165272116661072\n",
      "Current Time = 14:58:04\n",
      "Loss at 15200 epochs: 18.08832821249962\n",
      "Current Time = 14:58:33\n",
      "Loss at 15400 epochs: 18.12785378098488\n",
      "Current Time = 14:59:03\n",
      "Loss at 15600 epochs: 18.1346535384655\n",
      "Current Time = 14:59:32\n",
      "Loss at 15800 epochs: 18.097241669893265\n",
      "Current Time = 14:59:58\n",
      "Loss at 16000 epochs: 18.097667008638382\n",
      "Current Time = 15:00:25\n",
      "Loss at 16200 epochs: 18.30302521586418\n",
      "Current Time = 15:00:51\n",
      "Loss at 16400 epochs: 18.29044336080551\n",
      "Current Time = 15:01:16\n",
      "Loss at 16600 epochs: 17.97538134455681\n",
      "Current Time = 15:01:43\n",
      "Loss at 16800 epochs: 18.00547704100609\n",
      "Current Time = 15:02:06\n",
      "Loss at 17000 epochs: 18.21707394719124\n",
      "Current Time = 15:02:32\n",
      "Loss at 17200 epochs: 18.158678025007248\n",
      "Current Time = 15:02:56\n",
      "Loss at 17400 epochs: 17.924275308847427\n",
      "Current Time = 15:03:20\n",
      "Loss at 17600 epochs: 18.209769636392593\n",
      "Current Time = 15:03:45\n",
      "Loss at 17800 epochs: 18.21935400366783\n",
      "Current Time = 15:04:08\n",
      "Loss at 18000 epochs: 18.088999330997467\n",
      "Current Time = 15:04:31\n",
      "Loss at 18200 epochs: 18.121555507183075\n",
      "Current Time = 15:04:54\n",
      "Loss at 18400 epochs: 18.14364755153656\n",
      "Current Time = 15:05:18\n",
      "Loss at 18600 epochs: 18.247150748968124\n",
      "Current Time = 15:05:44\n",
      "Loss at 18800 epochs: 18.033672332763672\n",
      "Current Time = 15:06:11\n",
      "Loss at 19000 epochs: 18.04513245820999\n",
      "Current Time = 15:06:47\n",
      "Loss at 19200 epochs: 18.29256170988083\n",
      "Current Time = 15:07:21\n",
      "Loss at 19400 epochs: 17.835334420204163\n",
      "Current Time = 15:07:53\n",
      "Loss at 19600 epochs: 17.967651963233948\n",
      "Current Time = 15:08:25\n",
      "Loss at 19800 epochs: 18.398486524820328\n"
     ]
    }
   ],
   "source": [
    "from datetime import datetime\n",
    "\n",
    "losses = []\n",
    "optimizer = optim.SGD(model.parameters(), lr = 0.005)\n",
    "\n",
    "for e in range(20000):\n",
    "    loss = train_model(model, criterion, optimizer, feats, labels, e, 500)\n",
    "    losses.append(loss)\n",
    "    if e%200==0:\n",
    "        now = datetime.now()\n",
    "        current_time = now.strftime(\"%H:%M:%S\")\n",
    "        print(\"Current Time =\", current_time)\n",
    "        print(\"Loss at {e} epochs: {l}\".format(e=e, l=loss))"
   ]
  },
  {
   "cell_type": "code",
   "execution_count": null,
   "metadata": {},
   "outputs": [],
   "source": [
    "#Took about 40 minutes for 20'000 epochs"
   ]
  },
  {
   "cell_type": "code",
   "execution_count": 24,
   "metadata": {},
   "outputs": [
    {
     "data": {
      "text/plain": [
       "[<matplotlib.lines.Line2D at 0x2a756a9da30>]"
      ]
     },
     "execution_count": 24,
     "metadata": {},
     "output_type": "execute_result"
    },
    {
     "data": {
      "image/png": "[encoded data removed]",
      "text/plain": [
       "<Figure size 432x288 with 1 Axes>"
      ]
     },
     "metadata": {
      "needs_background": "light"
     },
     "output_type": "display_data"
    }
   ],
   "source": [
    "import matplotlib.pyplot as plt\n",
    "xd = [x/labels.size(0) for x in losses]\n",
    "#plt.plot(losses/labels.size(0))\n",
    "plt.plot(xd)"
   ]
  },
  {
   "cell_type": "code",
   "execution_count": 9,
   "metadata": {},
   "outputs": [
    {
     "data": {
      "text/plain": [
       "deepcat_cnn(\n",
       "  (conv1): Conv2d(1, 8, kernel_size=(15, 2), stride=(1, 1))\n",
       "  (pool1): MaxPool2d(kernel_size=(1, 2), stride=(1, 1), padding=0, dilation=1, ceil_mode=False)\n",
       "  (conv2): Conv2d(8, 16, kernel_size=(1, 2), stride=(1, 1))\n",
       "  (pool2): MaxPool2d(kernel_size=(1, 2), stride=(1, 1), padding=0, dilation=1, ceil_mode=False)\n",
       "  (fc1): Linear(in_features=128, out_features=10, bias=True)\n",
       "  (fc2): Linear(in_features=10, out_features=2, bias=True)\n",
       "  (dropout): Dropout(p=0.4, inplace=False)\n",
       ")"
      ]
     },
     "execution_count": 9,
     "metadata": {},
     "output_type": "execute_result"
    }
   ],
   "source": [
    "model()"
   ]
  },
  {
   "cell_type": "code",
   "execution_count": 22,
   "metadata": {
    "collapsed": true,
    "jupyter": {
     "outputs_hidden": true
    }
   },
   "outputs": [
    {
     "data": {
      "text/plain": [
       "\u001b[1;31mSignature:\u001b[0m \u001b[0maccuracy_score\u001b[0m\u001b[1;33m(\u001b[0m\u001b[0my_true\u001b[0m\u001b[1;33m,\u001b[0m \u001b[0my_pred\u001b[0m\u001b[1;33m,\u001b[0m \u001b[1;33m*\u001b[0m\u001b[1;33m,\u001b[0m \u001b[0mnormalize\u001b[0m\u001b[1;33m=\u001b[0m\u001b[1;32mTrue\u001b[0m\u001b[1;33m,\u001b[0m \u001b[0msample_weight\u001b[0m\u001b[1;33m=\u001b[0m\u001b[1;32mNone\u001b[0m\u001b[1;33m)\u001b[0m\u001b[1;33m\u001b[0m\u001b[1;33m\u001b[0m\u001b[0m\n",
       "\u001b[1;31mDocstring:\u001b[0m\n",
       "Accuracy classification score.\n",
       "\n",
       "In multilabel classification, this function computes subset accuracy:\n",
       "the set of labels predicted for a sample must *exactly* match the\n",
       "corresponding set of labels in y_true.\n",
       "\n",
       "Read more in the :ref:`User Guide <accuracy_score>`.\n",
       "\n",
       "Parameters\n",
       "----------\n",
       "y_true : 1d array-like, or label indicator array / sparse matrix\n",
       "    Ground truth (correct) labels.\n",
       "\n",
       "y_pred : 1d array-like, or label indicator array / sparse matrix\n",
       "    Predicted labels, as returned by a classifier.\n",
       "\n",
       "normalize : bool, optional (default=True)\n",
       "    If ``False``, return the number of correctly classified samples.\n",
       "    Otherwise, return the fraction of correctly classified samples.\n",
       "\n",
       "sample_weight : array-like of shape (n_samples,), default=None\n",
       "    Sample weights.\n",
       "\n",
       "Returns\n",
       "-------\n",
       "score : float\n",
       "    If ``normalize == True``, return the fraction of correctly\n",
       "    classified samples (float), else returns the number of correctly\n",
       "    classified samples (int).\n",
       "\n",
       "    The best performance is 1 with ``normalize == True`` and the number\n",
       "    of samples with ``normalize == False``.\n",
       "\n",
       "See also\n",
       "--------\n",
       "jaccard_score, hamming_loss, zero_one_loss\n",
       "\n",
       "Notes\n",
       "-----\n",
       "In binary and multiclass classification, this function is equal\n",
       "to the ``jaccard_score`` function.\n",
       "\n",
       "Examples\n",
       "--------\n",
       ">>> from sklearn.metrics import accuracy_score\n",
       ">>> y_pred = [0, 2, 1, 3]\n",
       ">>> y_true = [0, 1, 2, 3]\n",
       ">>> accuracy_score(y_true, y_pred)\n",
       "0.5\n",
       ">>> accuracy_score(y_true, y_pred, normalize=False)\n",
       "2\n",
       "\n",
       "In the multilabel case with binary label indicators:\n",
       "\n",
       ">>> import numpy as np\n",
       ">>> accuracy_score(np.array([[0, 1], [1, 1]]), np.ones((2, 2)))\n",
       "0.5\n",
       "\u001b[1;31mFile:\u001b[0m      c:\\users\\richi\\anaconda3\\lib\\site-packages\\sklearn\\metrics\\_classification.py\n",
       "\u001b[1;31mType:\u001b[0m      function\n"
      ]
     },
     "metadata": {},
     "output_type": "display_data"
    }
   ],
   "source": [
    "?accuracy_score"
   ]
  },
  {
   "cell_type": "code",
   "execution_count": 21,
   "metadata": {
    "collapsed": true,
    "jupyter": {
     "outputs_hidden": true
    }
   },
   "outputs": [
    {
     "data": {
      "text/plain": [
       "\u001b[1;31mSignature:\u001b[0m\n",
       "\u001b[0mroc_auc_score\u001b[0m\u001b[1;33m(\u001b[0m\u001b[1;33m\n",
       "\u001b[0m    \u001b[0my_true\u001b[0m\u001b[1;33m,\u001b[0m\u001b[1;33m\n",
       "\u001b[0m    \u001b[0my_score\u001b[0m\u001b[1;33m,\u001b[0m\u001b[1;33m\n",
       "\u001b[0m    \u001b[1;33m*\u001b[0m\u001b[1;33m,\u001b[0m\u001b[1;33m\n",
       "\u001b[0m    \u001b[0maverage\u001b[0m\u001b[1;33m=\u001b[0m\u001b[1;34m'macro'\u001b[0m\u001b[1;33m,\u001b[0m\u001b[1;33m\n",
       "\u001b[0m    \u001b[0msample_weight\u001b[0m\u001b[1;33m=\u001b[0m\u001b[1;32mNone\u001b[0m\u001b[1;33m,\u001b[0m\u001b[1;33m\n",
       "\u001b[0m    \u001b[0mmax_fpr\u001b[0m\u001b[1;33m=\u001b[0m\u001b[1;32mNone\u001b[0m\u001b[1;33m,\u001b[0m\u001b[1;33m\n",
       "\u001b[0m    \u001b[0mmulti_class\u001b[0m\u001b[1;33m=\u001b[0m\u001b[1;34m'raise'\u001b[0m\u001b[1;33m,\u001b[0m\u001b[1;33m\n",
       "\u001b[0m    \u001b[0mlabels\u001b[0m\u001b[1;33m=\u001b[0m\u001b[1;32mNone\u001b[0m\u001b[1;33m,\u001b[0m\u001b[1;33m\n",
       "\u001b[0m\u001b[1;33m)\u001b[0m\u001b[1;33m\u001b[0m\u001b[1;33m\u001b[0m\u001b[0m\n",
       "\u001b[1;31mDocstring:\u001b[0m\n",
       "Compute Area Under the Receiver Operating Characteristic Curve (ROC AUC)\n",
       "from prediction scores.\n",
       "\n",
       "Note: this implementation can be used with binary, multiclass and\n",
       "multilabel classification, but some restrictions apply (see Parameters).\n",
       "\n",
       "Read more in the :ref:`User Guide <roc_metrics>`.\n",
       "\n",
       "Parameters\n",
       "----------\n",
       "y_true : array-like of shape (n_samples,) or (n_samples, n_classes)\n",
       "    True labels or binary label indicators. The binary and multiclass cases\n",
       "    expect labels with shape (n_samples,) while the multilabel case expects\n",
       "    binary label indicators with shape (n_samples, n_classes).\n",
       "\n",
       "y_score : array-like of shape (n_samples,) or (n_samples, n_classes)\n",
       "    Target scores. In the binary and multilabel cases, these can be either\n",
       "    probability estimates or non-thresholded decision values (as returned\n",
       "    by `decision_function` on some classifiers). In the multiclass case,\n",
       "    these must be probability estimates which sum to 1. The binary\n",
       "    case expects a shape (n_samples,), and the scores must be the scores of\n",
       "    the class with the greater label. The multiclass and multilabel\n",
       "    cases expect a shape (n_samples, n_classes). In the multiclass case,\n",
       "    the order of the class scores must correspond to the order of\n",
       "    ``labels``, if provided, or else to the numerical or lexicographical\n",
       "    order of the labels in ``y_true``.\n",
       "\n",
       "average : {'micro', 'macro', 'samples', 'weighted'} or None,             default='macro'\n",
       "    If ``None``, the scores for each class are returned. Otherwise,\n",
       "    this determines the type of averaging performed on the data:\n",
       "    Note: multiclass ROC AUC currently only handles the 'macro' and\n",
       "    'weighted' averages.\n",
       "\n",
       "    ``'micro'``:\n",
       "        Calculate metrics globally by considering each element of the label\n",
       "        indicator matrix as a label.\n",
       "    ``'macro'``:\n",
       "        Calculate metrics for each label, and find their unweighted\n",
       "        mean.  This does not take label imbalance into account.\n",
       "    ``'weighted'``:\n",
       "        Calculate metrics for each label, and find their average, weighted\n",
       "        by support (the number of true instances for each label).\n",
       "    ``'samples'``:\n",
       "        Calculate metrics for each instance, and find their average.\n",
       "\n",
       "    Will be ignored when ``y_true`` is binary.\n",
       "\n",
       "sample_weight : array-like of shape (n_samples,), default=None\n",
       "    Sample weights.\n",
       "\n",
       "max_fpr : float > 0 and <= 1, default=None\n",
       "    If not ``None``, the standardized partial AUC [2]_ over the range\n",
       "    [0, max_fpr] is returned. For the multiclass case, ``max_fpr``,\n",
       "    should be either equal to ``None`` or ``1.0`` as AUC ROC partial\n",
       "    computation currently is not supported for multiclass.\n",
       "\n",
       "multi_class : {'raise', 'ovr', 'ovo'}, default='raise'\n",
       "    Multiclass only. Determines the type of configuration to use. The\n",
       "    default value raises an error, so either ``'ovr'`` or ``'ovo'`` must be\n",
       "    passed explicitly.\n",
       "\n",
       "    ``'ovr'``:\n",
       "        Computes the AUC of each class against the rest [3]_ [4]_. This\n",
       "        treats the multiclass case in the same way as the multilabel case.\n",
       "        Sensitive to class imbalance even when ``average == 'macro'``,\n",
       "        because class imbalance affects the composition of each of the\n",
       "        'rest' groupings.\n",
       "    ``'ovo'``:\n",
       "        Computes the average AUC of all possible pairwise combinations of\n",
       "        classes [5]_. Insensitive to class imbalance when\n",
       "        ``average == 'macro'``.\n",
       "\n",
       "labels : array-like of shape (n_classes,), default=None\n",
       "    Multiclass only. List of labels that index the classes in ``y_score``.\n",
       "    If ``None``, the numerical or lexicographical order of the labels in\n",
       "    ``y_true`` is used.\n",
       "\n",
       "Returns\n",
       "-------\n",
       "auc : float\n",
       "\n",
       "References\n",
       "----------\n",
       ".. [1] `Wikipedia entry for the Receiver operating characteristic\n",
       "        <https://en.wikipedia.org/wiki/Receiver_operating_characteristic>`_\n",
       "\n",
       ".. [2] `Analyzing a portion of the ROC curve. McClish, 1989\n",
       "        <https://www.ncbi.nlm.nih.gov/pubmed/2668680>`_\n",
       "\n",
       ".. [3] Provost, F., Domingos, P. (2000). Well-trained PETs: Improving\n",
       "       probability estimation trees (Section 6.2), CeDER Working Paper\n",
       "       #IS-00-04, Stern School of Business, New York University.\n",
       "\n",
       ".. [4] `Fawcett, T. (2006). An introduction to ROC analysis. Pattern\n",
       "        Recognition Letters, 27(8), 861-874.\n",
       "        <https://www.sciencedirect.com/science/article/pii/S016786550500303X>`_\n",
       "\n",
       ".. [5] `Hand, D.J., Till, R.J. (2001). A Simple Generalisation of the Area\n",
       "        Under the ROC Curve for Multiple Class Classification Problems.\n",
       "        Machine Learning, 45(2), 171-186.\n",
       "        <http://link.springer.com/article/10.1023/A:1010920819831>`_\n",
       "\n",
       "See also\n",
       "--------\n",
       "average_precision_score : Area under the precision-recall curve\n",
       "\n",
       "roc_curve : Compute Receiver operating characteristic (ROC) curve\n",
       "\n",
       "Examples\n",
       "--------\n",
       ">>> import numpy as np\n",
       ">>> from sklearn.metrics import roc_auc_score\n",
       ">>> y_true = np.array([0, 0, 1, 1])\n",
       ">>> y_scores = np.array([0.1, 0.4, 0.35, 0.8])\n",
       ">>> roc_auc_score(y_true, y_scores)\n",
       "0.75\n",
       "\u001b[1;31mFile:\u001b[0m      c:\\users\\richi\\anaconda3\\lib\\site-packages\\sklearn\\metrics\\_ranking.py\n",
       "\u001b[1;31mType:\u001b[0m      function\n"
      ]
     },
     "metadata": {},
     "output_type": "display_data"
    }
   ],
   "source": [
    "from sklearn.metrics import roc_curve, roc_auc_score, accuracy_score\n",
    "?roc_auc_score"
   ]
  },
  {
   "cell_type": "code",
   "execution_count": 24,
   "metadata": {},
   "outputs": [],
   "source": [
    "logits = model(feats)"
   ]
  },
  {
   "cell_type": "code",
   "execution_count": 27,
   "metadata": {},
   "outputs": [
    {
     "data": {
      "text/plain": [
       "tensor([[1.0712, 0.0000],\n",
       "        [0.0000, 0.0000],\n",
       "        [0.0000, 0.0000],\n",
       "        ...,\n",
       "        [0.3908, 0.0000],\n",
       "        [1.3636, 0.0000],\n",
       "        [0.0000, 0.0000]], device='cuda:0', grad_fn=<FusedDropoutBackward>)"
      ]
     },
     "execution_count": 27,
     "metadata": {},
     "output_type": "execute_result"
    }
   ],
   "source": [
    "logits"
   ]
  },
  {
   "cell_type": "code",
   "execution_count": 29,
   "metadata": {},
   "outputs": [
    {
     "name": "stdout",
     "output_type": "stream",
     "text": [
      "Current Time = 17:00:10\n",
      "Loss at 0 epochs: 42.46771255135536\n",
      "Current Time = 17:00:44\n",
      "Loss at 200 epochs: 37.59503474831581\n",
      "Current Time = 17:01:18\n",
      "Loss at 400 epochs: 36.91499978303909\n",
      "Current Time = 17:01:52\n",
      "Loss at 600 epochs: 36.53209784626961\n",
      "Current Time = 17:02:28\n",
      "Loss at 800 epochs: 35.669489324092865\n",
      "Current Time = 17:03:03\n",
      "Loss at 1000 epochs: 35.08933112025261\n",
      "Current Time = 17:03:37\n",
      "Loss at 1200 epochs: 34.3982315659523\n",
      "Current Time = 17:04:12\n",
      "Loss at 1400 epochs: 34.12680885195732\n",
      "Current Time = 17:04:47\n",
      "Loss at 1600 epochs: 34.29938131570816\n",
      "Current Time = 17:05:21\n",
      "Loss at 1800 epochs: 34.476052552461624\n"
     ]
    }
   ],
   "source": [
    "from datetime import datetime\n",
    "\n",
    "losses = []\n",
    "optimizer = optim.SGD(model.parameters(), lr = 0.005, momentum=0.9, weight_decay = 1e-5)\n",
    "\n",
    "for e in range(2000):\n",
    "    loss = train_model(model, criterion, optimizer, feats, labels, e, 100)\n",
    "    losses.append(loss)\n",
    "    if e%200==0:\n",
    "        now = datetime.now()\n",
    "        current_time = now.strftime(\"%H:%M:%S\")\n",
    "        print(\"Current Time =\", current_time)\n",
    "        print(\"Loss at {e} epochs: {l}\".format(e=e, l=loss))"
   ]
  },
  {
   "cell_type": "code",
   "execution_count": 30,
   "metadata": {
    "collapsed": true,
    "jupyter": {
     "outputs_hidden": true
    }
   },
   "outputs": [
    {
     "data": {
      "text/plain": [
       "[<matplotlib.lines.Line2D at 0x156428086d0>]"
      ]
     },
     "execution_count": 30,
     "metadata": {},
     "output_type": "execute_result"
    },
    {
     "data": {
      "image/png": "[encoded data removed]",
      "text/plain": [
       "<Figure size 432x288 with 1 Axes>"
      ]
     },
     "metadata": {
      "needs_background": "light"
     },
     "output_type": "display_data"
    }
   ],
   "source": [
    "plt.plot(losses)"
   ]
  },
  {
   "cell_type": "code",
   "execution_count": 35,
   "metadata": {},
   "outputs": [],
   "source": [
    "logits = model(feats)"
   ]
  },
  {
   "cell_type": "code",
   "execution_count": 103,
   "metadata": {},
   "outputs": [],
   "source": [
    "def eval_model(model, criterion, data, labels, mini_batch_size):\n",
    "    \"\"\"\n",
    "    Takes a model & evaluates it (AUC & Accuracy)\n",
    "    \"\"\"\n",
    "    model.eval()\n",
    "    one_hot = one_hot_labels(labels).cpu() # from preprocessing.py\n",
    "    \n",
    "    #Full test_set in case of unbalanced data\n",
    "    #Logits = raw for loss, predictions = argmax(logit), probs = softmax(logit)\n",
    "    logits = model(data) \n",
    "    predictions = logits.argmax(1)\n",
    "    probs = logits.softmax(1)\n",
    "    \n",
    "    eval_loss = criterion(logits, labels) #criterion = nn.CEL\n",
    "    accs = accuracy_score(labels.cpu(), predictions.cpu())\n",
    "    AUCs = roc_auc_score(one_hot, probs.detach().cpu())\n",
    "\n",
    "    return eval_loss, accs, AUCs\n"
   ]
  },
  {
   "cell_type": "code",
   "execution_count": 104,
   "metadata": {},
   "outputs": [
    {
     "data": {
      "text/plain": [
       "(3182, 3182)"
      ]
     },
     "execution_count": 104,
     "metadata": {},
     "output_type": "execute_result"
    }
   ],
   "source": [
    "test_data = test_features[12]['x']\n",
    "test_targets = test_labels[12]\n",
    "len(test_data), len(test_targets)"
   ]
  },
  {
   "cell_type": "code",
   "execution_count": 105,
   "metadata": {},
   "outputs": [
    {
     "data": {
      "text/plain": [
       "(tensor(0.4200, device='cuda:0', grad_fn=<NllLossBackward>),\n",
       " 0.8315524827152734,\n",
       " 0.9257044548278869)"
      ]
     },
     "execution_count": 105,
     "metadata": {},
     "output_type": "execute_result"
    }
   ],
   "source": [
    "eval_model(model,criterion,test_data, test_targets,1000)"
   ]
  }
 ],
 "metadata": {
  "kernelspec": {
   "display_name": "Python 3",
   "language": "python",
   "name": "python3"
  },
  "language_info": {
   "codemirror_mode": {
    "name": "ipython",
    "version": 3
   },
   "file_extension": ".py",
   "mimetype": "text/x-python",
   "name": "python",
   "nbconvert_exporter": "python",
   "pygments_lexer": "ipython3",
   "version": "3.8.5"
  }
 },
 "nbformat": 4,
 "nbformat_minor": 5
}
