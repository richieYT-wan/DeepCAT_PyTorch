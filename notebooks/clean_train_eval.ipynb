{
 "cells": [
  {
   "cell_type": "code",
   "execution_count": 1,
   "id": "sought-retirement",
   "metadata": {},
   "outputs": [],
   "source": [
    "#Allows relative imports\n",
    "import os\n",
    "import sys\n",
    "module_path = os.path.abspath(os.path.join('..'))\n",
    "if module_path not in sys.path:\n",
    "    sys.path.append(module_path)"
   ]
  },
  {
   "cell_type": "code",
   "execution_count": 2,
   "id": "timely-storm",
   "metadata": {},
   "outputs": [
    {
     "name": "stdout",
     "output_type": "stream",
     "text": [
      "Using : cuda\n"
     ]
    }
   ],
   "source": [
    "from src.preprocessing import *\n",
    "from src.models import deepcat_cnn\n",
    "from src.torch_util import *\n",
    "from src.dataloader import *\n",
    "%load_ext autoreload\n",
    "%autoreload 2\n",
    "\n",
    "if torch.cuda.is_available():\n",
    "    device = torch.device('cuda')\n",
    "    print(\"Using : {}\".format(device))\n",
    "else:\n",
    "    device = torch.device('cpu')\n",
    "    print(\"Using : {}\".format(device))"
   ]
  },
  {
   "cell_type": "code",
   "execution_count": 3,
   "id": "complete-bhutan",
   "metadata": {},
   "outputs": [
    {
     "data": {
      "text/plain": [
       "['NormalCDR3.txt',\n",
       " 'NormalCDR3_test.txt',\n",
       " 'TumorCDR3.txt',\n",
       " 'TumorCDR3_test.txt']"
      ]
     },
     "execution_count": 3,
     "metadata": {},
     "output_type": "execute_result"
    }
   ],
   "source": [
    "RANGE = range(12,17)\n",
    "TRAINDIR = '../TrainingData/'\n",
    "files = os.listdir(TRAINDIR)\n",
    "files.remove('readme.md')\n",
    "files"
   ]
  },
  {
   "cell_type": "code",
   "execution_count": 5,
   "id": "occasional-thought",
   "metadata": {},
   "outputs": [],
   "source": [
    "#Reading data\n",
    "train_normal = read_seq(TRAINDIR+files[0])\n",
    "train_tumor = read_seq(TRAINDIR+files[2])\n",
    "\n",
    "test_normal = read_seq(TRAINDIR+files[1])\n",
    "test_tumor = read_seq(TRAINDIR+files[3])\n",
    "#For now, data has not been split into validation/train sets.\n",
    "train_features, train_labels = generate_features_labels(train_tumor, train_normal, device)\n",
    "test_features, test_labels = generate_features_labels(test_tumor, test_normal, device)"
   ]
  },
  {
   "cell_type": "code",
   "execution_count": 6,
   "id": "constant-newsletter",
   "metadata": {},
   "outputs": [
    {
     "data": {
      "text/plain": [
       "device(type='cuda', index=0)"
      ]
     },
     "execution_count": 6,
     "metadata": {},
     "output_type": "execute_result"
    }
   ],
   "source": [
    "test = torch.randn(100,dtype=torch.float32)\n",
    "test =test.to(device)\n",
    "test.device "
   ]
  },
  {
   "cell_type": "code",
   "execution_count": 7,
   "id": "invisible-password",
   "metadata": {},
   "outputs": [
    {
     "data": {
      "text/plain": [
       "True"
      ]
     },
     "execution_count": 7,
     "metadata": {},
     "output_type": "execute_result"
    }
   ],
   "source": [
    "test.device == torch.device(type='cuda',index=0)"
   ]
  },
  {
   "cell_type": "code",
   "execution_count": 8,
   "id": "aging-alert",
   "metadata": {},
   "outputs": [
    {
     "data": {
      "text/plain": [
       "(15, device(type='cpu'))"
      ]
     },
     "execution_count": 8,
     "metadata": {},
     "output_type": "execute_result"
    }
   ],
   "source": [
    "#Loading models \n",
    "model_dict = {}\n",
    "\n",
    "for length in RANGE:\n",
    "    model = deepcat_cnn(length)\n",
    "    model.to('cpu')\n",
    "    model_dict[length]=model\n",
    "    \n",
    "model_dict[15].length, model_dict[15].dummy_param.device"
   ]
  },
  {
   "cell_type": "code",
   "execution_count": 9,
   "id": "suited-rapid",
   "metadata": {},
   "outputs": [
    {
     "data": {
      "text/plain": [
       "(device(type='cuda', index=0), device(type='cpu'))"
      ]
     },
     "execution_count": 9,
     "metadata": {},
     "output_type": "execute_result"
    }
   ],
   "source": [
    "model_dict[15].cuda()\n",
    "model_dict[15].dummy_param.device, model_dict[12].dummy_param.device"
   ]
  },
  {
   "cell_type": "code",
   "execution_count": 10,
   "id": "daily-puppy",
   "metadata": {},
   "outputs": [
    {
     "name": "stdout",
     "output_type": "stream",
     "text": [
      "TRAIN TENSORS torch.Size([16393, 15, 15]) cuda:0\n",
      "TEST TENSORS torch.Size([7040, 15, 15]) cuda:0\n"
     ]
    }
   ],
   "source": [
    "print(\"TRAIN TENSORS\",train_features[15]['x'].shape, train_features[15]['x'].device)\n",
    "print(\"TEST TENSORS\",test_features[15]['x'].shape, test_features[15]['x'].device)"
   ]
  }
 ],
 "metadata": {
  "kernelspec": {
   "display_name": "Python 3",
   "language": "python",
   "name": "python3"
  },
  "language_info": {
   "codemirror_mode": {
    "name": "ipython",
    "version": 3
   },
   "file_extension": ".py",
   "mimetype": "text/x-python",
   "name": "python",
   "nbconvert_exporter": "python",
   "pygments_lexer": "ipython3",
   "version": "3.7.9"
  }
 },
 "nbformat": 4,
 "nbformat_minor": 5
}
